{
  "nbformat": 4,
  "nbformat_minor": 0,
  "metadata": {
    "colab": {
      "name": "assignment_10.ipynb",
      "version": "0.3.2",
      "views": {},
      "default_view": {},
      "provenance": []
    },
    "kernelspec": {
      "name": "python3",
      "display_name": "Python 3"
    }
  },
  "cells": [
    {
      "metadata": {
        "id": "EqHGvIjjMHOK",
        "colab_type": "code",
        "colab": {
          "autoexec": {
            "startup": false,
            "wait_interval": 0
          }
        }
      },
      "cell_type": "code",
      "source": [
        "#importing libraries\n",
        "import pandas as pd\n",
        "import numpy as np\n",
        "import seaborn as sns\n",
        "import matplotlib.pyplot as plt\n",
        "%matplotlib inline"
      ],
      "execution_count": 0,
      "outputs": []
    },
    {
      "metadata": {
        "id": "U_ZrjvdvMVvj",
        "colab_type": "code",
        "colab": {
          "autoexec": {
            "startup": false,
            "wait_interval": 0
          }
        }
      },
      "cell_type": "code",
      "source": [
        "#Question 1\n",
        "from sklearn.datasets import load_digits\n",
        "data , target = load_digits(n_class = 10 , return_X_y = True)"
      ],
      "execution_count": 0,
      "outputs": []
    },
    {
      "metadata": {
        "id": "xayk9PbMQTRP",
        "colab_type": "code",
        "colab": {
          "autoexec": {
            "startup": false,
            "wait_interval": 0
          },
          "base_uri": "https://localhost:8080/",
          "height": 34
        },
        "outputId": "5b8d67eb-f538-4e63-ce93-45e7075aabed",
        "executionInfo": {
          "status": "ok",
          "timestamp": 1528704695930,
          "user_tz": -330,
          "elapsed": 1033,
          "user": {
            "displayName": "Shivam Maggu",
            "photoUrl": "//lh4.googleusercontent.com/-V6fh5FfvVss/AAAAAAAAAAI/AAAAAAAAAx8/6DlPYMNrb-Y/s50-c-k-no/photo.jpg",
            "userId": "101497899883099583625"
          }
        }
      },
      "cell_type": "code",
      "source": [
        "data.shape"
      ],
      "execution_count": 4,
      "outputs": [
        {
          "output_type": "execute_result",
          "data": {
            "text/plain": [
              "(1797, 64)"
            ]
          },
          "metadata": {
            "tags": []
          },
          "execution_count": 4
        }
      ]
    },
    {
      "metadata": {
        "id": "1lz_EZ_KQYtw",
        "colab_type": "code",
        "colab": {
          "autoexec": {
            "startup": false,
            "wait_interval": 0
          },
          "base_uri": "https://localhost:8080/",
          "height": 34
        },
        "outputId": "271b1b40-cead-4bb0-f7e2-5052ed713ff5",
        "executionInfo": {
          "status": "ok",
          "timestamp": 1528704768296,
          "user_tz": -330,
          "elapsed": 998,
          "user": {
            "displayName": "Shivam Maggu",
            "photoUrl": "//lh4.googleusercontent.com/-V6fh5FfvVss/AAAAAAAAAAI/AAAAAAAAAx8/6DlPYMNrb-Y/s50-c-k-no/photo.jpg",
            "userId": "101497899883099583625"
          }
        }
      },
      "cell_type": "code",
      "source": [
        "target.shape"
      ],
      "execution_count": 10,
      "outputs": [
        {
          "output_type": "execute_result",
          "data": {
            "text/plain": [
              "(1797,)"
            ]
          },
          "metadata": {
            "tags": []
          },
          "execution_count": 10
        }
      ]
    },
    {
      "metadata": {
        "id": "jJX1AUDsQdeV",
        "colab_type": "code",
        "colab": {
          "autoexec": {
            "startup": false,
            "wait_interval": 0
          },
          "base_uri": "https://localhost:8080/",
          "height": 240
        },
        "outputId": "d8db7ee7-8e44-47e1-a8d3-eb28538d3770",
        "executionInfo": {
          "status": "ok",
          "timestamp": 1528704975827,
          "user_tz": -330,
          "elapsed": 1809,
          "user": {
            "displayName": "Shivam Maggu",
            "photoUrl": "//lh4.googleusercontent.com/-V6fh5FfvVss/AAAAAAAAAAI/AAAAAAAAAx8/6DlPYMNrb-Y/s50-c-k-no/photo.jpg",
            "userId": "101497899883099583625"
          }
        }
      },
      "cell_type": "code",
      "source": [
        "plt.figure(figsize = (20,4))\n",
        "for index , (image,label) in enumerate(zip(data[0:5] , target[0:5])):\n",
        "  plt.subplot(1,5,index+1)\n",
        "  plt.imshow(np.reshape(image , (8,8)) , cmap = plt.cm.gray)"
      ],
      "execution_count": 19,
      "outputs": [
        {
          "output_type": "display_data",
          "data": {
            "image/png": "[encoded data removed]",
            "text/plain": [
              "<matplotlib.figure.Figure at 0x7f63c2be00f0>"
            ]
          },
          "metadata": {
            "tags": []
          }
        }
      ]
    },
    {
      "metadata": {
        "id": "U_uk7hk7NrCb",
        "colab_type": "code",
        "colab": {
          "autoexec": {
            "startup": false,
            "wait_interval": 0
          }
        }
      },
      "cell_type": "code",
      "source": [
        "#Question 2\n",
        "X = pd.DataFrame(data)"
      ],
      "execution_count": 0,
      "outputs": []
    },
    {
      "metadata": {
        "id": "5cXFiN2aN5Bc",
        "colab_type": "code",
        "colab": {
          "autoexec": {
            "startup": false,
            "wait_interval": 0
          }
        }
      },
      "cell_type": "code",
      "source": [
        "y = pd.DataFrame(target)"
      ],
      "execution_count": 0,
      "outputs": []
    },
    {
      "metadata": {
        "id": "_5Xec1RbN9Nb",
        "colab_type": "code",
        "colab": {
          "autoexec": {
            "startup": false,
            "wait_interval": 0
          }
        }
      },
      "cell_type": "code",
      "source": [
        "#Question 3\n",
        "from sklearn.model_selection import train_test_split\n",
        "x_train , x_test , y_train , y_test = train_test_split(X,y,test_size = 0.2,random_state = 42)"
      ],
      "execution_count": 0,
      "outputs": []
    },
    {
      "metadata": {
        "id": "h4wok938O4C6",
        "colab_type": "code",
        "colab": {
          "autoexec": {
            "startup": false,
            "wait_interval": 0
          }
        }
      },
      "cell_type": "code",
      "source": [
        "#Question 4\n",
        "from sklearn.neighbors import KNeighborsClassifier\n",
        "knn = KNeighborsClassifier(n_neighbors = 3)"
      ],
      "execution_count": 0,
      "outputs": []
    },
    {
      "metadata": {
        "id": "Kt8EoVgMPWaB",
        "colab_type": "code",
        "colab": {
          "autoexec": {
            "startup": false,
            "wait_interval": 0
          },
          "base_uri": "https://localhost:8080/",
          "height": 121
        },
        "outputId": "8a09bb3c-8f41-4757-cb72-40c7e2b7c8cf",
        "executionInfo": {
          "status": "ok",
          "timestamp": 1528705378765,
          "user_tz": -330,
          "elapsed": 1043,
          "user": {
            "displayName": "Shivam Maggu",
            "photoUrl": "//lh4.googleusercontent.com/-V6fh5FfvVss/AAAAAAAAAAI/AAAAAAAAAx8/6DlPYMNrb-Y/s50-c-k-no/photo.jpg",
            "userId": "101497899883099583625"
          }
        }
      },
      "cell_type": "code",
      "source": [
        "knn.fit(x_train , y_train)"
      ],
      "execution_count": 27,
      "outputs": [
        {
          "output_type": "stream",
          "text": [
            "/usr/local/lib/python3.6/dist-packages/ipykernel_launcher.py:1: DataConversionWarning: A column-vector y was passed when a 1d array was expected. Please change the shape of y to (n_samples, ), for example using ravel().\n",
            "  \"\"\"Entry point for launching an IPython kernel.\n"
          ],
          "name": "stderr"
        },
        {
          "output_type": "execute_result",
          "data": {
            "text/plain": [
              "KNeighborsClassifier(algorithm='auto', leaf_size=30, metric='minkowski',\n",
              "           metric_params=None, n_jobs=1, n_neighbors=3, p=2,\n",
              "           weights='uniform')"
            ]
          },
          "metadata": {
            "tags": []
          },
          "execution_count": 27
        }
      ]
    },
    {
      "metadata": {
        "id": "P1GUCxRaP5nD",
        "colab_type": "code",
        "colab": {
          "autoexec": {
            "startup": false,
            "wait_interval": 0
          }
        }
      },
      "cell_type": "code",
      "source": [
        "y_pred = knn.predict(x_test)"
      ],
      "execution_count": 0,
      "outputs": []
    },
    {
      "metadata": {
        "id": "FDbToFIYBGdZ",
        "colab_type": "code",
        "colab": {
          "autoexec": {
            "startup": false,
            "wait_interval": 0
          },
          "base_uri": "https://localhost:8080/",
          "height": 34
        },
        "outputId": "43ed5492-3f0d-440e-8d3c-f3213d92818b",
        "executionInfo": {
          "status": "ok",
          "timestamp": 1528706786243,
          "user_tz": -330,
          "elapsed": 978,
          "user": {
            "displayName": "Shivam Maggu",
            "photoUrl": "//lh4.googleusercontent.com/-V6fh5FfvVss/AAAAAAAAAAI/AAAAAAAAAx8/6DlPYMNrb-Y/s50-c-k-no/photo.jpg",
            "userId": "101497899883099583625"
          }
        }
      },
      "cell_type": "code",
      "source": [
        "#Question 5\n",
        "from sklearn.metrics import accuracy_score\n",
        "print(accuracy_score(y_test , y_pred))"
      ],
      "execution_count": 38,
      "outputs": [
        {
          "output_type": "stream",
          "text": [
            "0.9833333333333333\n"
          ],
          "name": "stdout"
        }
      ]
    }
  ]
}