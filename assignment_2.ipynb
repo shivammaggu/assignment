{
 "cells": [
  {
   "cell_type": "code",
   "execution_count": 29,
   "metadata": {},
   "outputs": [
    {
     "name": "stdout",
     "output_type": "stream",
     "text": [
      "array = [[ 0.07232322]\n",
      " [ 0.69107622]\n",
      " [ 0.29302909]\n",
      " [ 0.84837243]\n",
      " [ 0.00697651]\n",
      " [ 0.04304515]\n",
      " [ 0.64208235]\n",
      " [ 0.29234284]\n",
      " [ 0.38295749]\n",
      " [ 0.83891986]]\n",
      "mean = 0.411112516034\n"
     ]
    }
   ],
   "source": [
    "#Question 1\n",
    "\n",
    "import numpy as np\n",
    "w = np.random.random((10,1))\n",
    "m = np.mean(w)\n",
    "print(\"array = \"+str(w))\n",
    "print(\"mean = \"+ str(m))"
   ]
  },
  {
   "cell_type": "code",
   "execution_count": 30,
   "metadata": {},
   "outputs": [
    {
     "name": "stdout",
     "output_type": "stream",
     "text": [
      "array = [[ 0.48517672]\n",
      " [ 0.31316405]\n",
      " [ 0.43051831]\n",
      " [ 0.69779137]\n",
      " [ 0.45036255]\n",
      " [ 0.94679918]\n",
      " [ 0.3884371 ]\n",
      " [ 0.09507364]\n",
      " [ 0.23955854]\n",
      " [ 0.54455767]\n",
      " [ 0.18962587]\n",
      " [ 0.6850531 ]\n",
      " [ 0.57062631]\n",
      " [ 0.15319023]\n",
      " [ 0.91630833]\n",
      " [ 0.7241594 ]\n",
      " [ 0.5696115 ]\n",
      " [ 0.88417525]\n",
      " [ 0.27286697]\n",
      " [ 0.22428204]]\n",
      "standard deviation = 0.253421993575\n",
      "variance = 0.0642227068274\n"
     ]
    }
   ],
   "source": [
    "#Question 2\n",
    "\n",
    "q = np.random.random((20,1))\n",
    "sd = np.std(q)\n",
    "var = sd*sd;\n",
    "print(\"array = \"+ str(q))\n",
    "print(\"standard deviation = \"+ str(sd))\n",
    "print(\"variance = \"+ str(var))"
   ]
  },
  {
   "cell_type": "code",
   "execution_count": 34,
   "metadata": {},
   "outputs": [
    {
     "name": "stdout",
     "output_type": "stream",
     "text": [
      "(10, 25)\n",
      "sum = 1259.18352962\n"
     ]
    }
   ],
   "source": [
    "#question 3\n",
    "\n",
    "a = np.random.random((10,20))\n",
    "b = np.random.random((20,25))\n",
    "a = np.dot(a,b)\n",
    "s = a.sum()\n",
    "print(a.shape)\n",
    "print(\"sum = \" + str(sum))"
   ]
  },
  {
   "cell_type": "code",
   "execution_count": 35,
   "metadata": {},
   "outputs": [
    {
     "name": "stdout",
     "output_type": "stream",
     "text": [
      "original array = [[ 0.99948064]\n",
      " [ 0.70458245]\n",
      " [ 0.52404692]\n",
      " [ 0.99729605]\n",
      " [ 0.88164494]\n",
      " [ 0.77956974]\n",
      " [ 0.27520451]\n",
      " [ 0.81997204]\n",
      " [ 0.38714857]\n",
      " [ 0.55298791]]\n",
      "new array = [[ 0.73095645]\n",
      " [ 0.66920298]\n",
      " [ 0.62809358]\n",
      " [ 0.73052662]\n",
      " [ 0.70716298]\n",
      " [ 0.68558738]\n",
      " [ 0.56837016]\n",
      " [ 0.69423041]\n",
      " [ 0.59559609]\n",
      " [ 0.63482853]]\n"
     ]
    }
   ],
   "source": [
    "#Question 4\n",
    "\n",
    "arr = np.random.random((10,1))\n",
    "print(\"original array = \"+ str(arr))\n",
    "b = -1\n",
    "arr = 1/(1+np.exp(arr*b))\n",
    "print(\"new array = \"+ str(arr))\n"
   ]
  }
 ],
 "metadata": {
  "kernelspec": {
   "display_name": "Python 3",
   "language": "python",
   "name": "python3"
  },
  "language_info": {
   "codemirror_mode": {
    "name": "ipython",
    "version": 3
   },
   "file_extension": ".py",
   "mimetype": "text/x-python",
   "name": "python",
   "nbconvert_exporter": "python",
   "pygments_lexer": "ipython3",
   "version": "3.6.3"
  }
 },
 "nbformat": 4,
 "nbformat_minor": 2
}
