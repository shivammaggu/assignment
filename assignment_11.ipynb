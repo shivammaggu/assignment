{
  "nbformat": 4,
  "nbformat_minor": 0,
  "metadata": {
    "colab": {
      "name": "assignment_11.ipynb",
      "version": "0.3.2",
      "views": {},
      "default_view": {},
      "provenance": []
    },
    "kernelspec": {
      "name": "python3",
      "display_name": "Python 3"
    }
  },
  "cells": [
    {
      "metadata": {
        "id": "SpTieETKeP9V",
        "colab_type": "code",
        "colab": {
          "autoexec": {
            "startup": false,
            "wait_interval": 0
          },
          "base_uri": "https://localhost:8080/",
          "height": 34
        },
        "outputId": "b6575e52-dcdf-4c3f-805f-fe87922166df",
        "executionInfo": {
          "status": "ok",
          "timestamp": 1528751749638,
          "user_tz": -330,
          "elapsed": 1035,
          "user": {
            "displayName": "Shivam Maggu",
            "photoUrl": "//lh4.googleusercontent.com/-V6fh5FfvVss/AAAAAAAAAAI/AAAAAAAAAx8/6DlPYMNrb-Y/s50-c-k-no/photo.jpg",
            "userId": "101497899883099583625"
          }
        }
      },
      "cell_type": "code",
      "source": [
        "#Question 1\n",
        "\n",
        "#Weather     play\n",
        "#           yes  no\n",
        "#sunny      3/9  2/5\n",
        "#overcast   4/9  0/5\n",
        "#rainy      2/9  3/5\n",
        "\n",
        "#p(yes) = 9/14\n",
        "#p(no) = 5/14\n",
        "\n",
        "#p(sunny) = 1/3\n",
        "#p(yes|sunny) = ??\n",
        "def fun1(p_sunny_yes , p_yes , p_sunny):\n",
        "  p_yes_sunny = ((p_sunny_yes * p_yes)/p_sunny)\n",
        "  return p_yes_sunny\n",
        "print('probability of a person playing when the weather is sunny is ' , fun1(3/9,9/14,1/3))\n",
        "  \n",
        "  "
      ],
      "execution_count": 73,
      "outputs": [
        {
          "output_type": "stream",
          "text": [
            "probability of a person playing when the weather is sunny is  0.6428571428571429\n"
          ],
          "name": "stdout"
        }
      ]
    },
    {
      "metadata": {
        "id": "276WB0eWiXY6",
        "colab_type": "code",
        "colab": {
          "autoexec": {
            "startup": false,
            "wait_interval": 0
          }
        }
      },
      "cell_type": "code",
      "source": [
        "#Question 2\n",
        "#libraries\n",
        "import numpy as np\n",
        "import pandas as pd\n",
        "import matplotlib.pyplot as plt\n",
        "import seaborn as sns \n",
        "%matplotlib inline\n",
        "from sklearn import datasets #contains datasets like iris,titanic,digits\n",
        "from sklearn.metrics import classification_report , confusion_matrix , accuracy_score #metrics and accuracy"
      ],
      "execution_count": 0,
      "outputs": []
    },
    {
      "metadata": {
        "id": "OG9Y6i9zj22i",
        "colab_type": "code",
        "colab": {
          "autoexec": {
            "startup": false,
            "wait_interval": 0
          }
        }
      },
      "cell_type": "code",
      "source": [
        "#a ->import iris dataset from sklearn\n",
        "data , target = datasets.load_iris(return_X_y = True)"
      ],
      "execution_count": 0,
      "outputs": []
    },
    {
      "metadata": {
        "id": "VOEJIVzRkALC",
        "colab_type": "code",
        "colab": {
          "autoexec": {
            "startup": false,
            "wait_interval": 0
          },
          "base_uri": "https://localhost:8080/",
          "height": 34
        },
        "outputId": "7670e31a-0501-46a1-9a63-132e50052815",
        "executionInfo": {
          "status": "ok",
          "timestamp": 1528751755568,
          "user_tz": -330,
          "elapsed": 1027,
          "user": {
            "displayName": "Shivam Maggu",
            "photoUrl": "//lh4.googleusercontent.com/-V6fh5FfvVss/AAAAAAAAAAI/AAAAAAAAAx8/6DlPYMNrb-Y/s50-c-k-no/photo.jpg",
            "userId": "101497899883099583625"
          }
        }
      },
      "cell_type": "code",
      "source": [
        "data.shape"
      ],
      "execution_count": 76,
      "outputs": [
        {
          "output_type": "execute_result",
          "data": {
            "text/plain": [
              "(150, 4)"
            ]
          },
          "metadata": {
            "tags": []
          },
          "execution_count": 76
        }
      ]
    },
    {
      "metadata": {
        "id": "HlGpgNNVkEct",
        "colab_type": "code",
        "colab": {
          "autoexec": {
            "startup": false,
            "wait_interval": 0
          },
          "base_uri": "https://localhost:8080/",
          "height": 34
        },
        "outputId": "b49e902d-aa8c-47b6-80fd-9b54f7bb4685",
        "executionInfo": {
          "status": "ok",
          "timestamp": 1528751758172,
          "user_tz": -330,
          "elapsed": 1624,
          "user": {
            "displayName": "Shivam Maggu",
            "photoUrl": "//lh4.googleusercontent.com/-V6fh5FfvVss/AAAAAAAAAAI/AAAAAAAAAx8/6DlPYMNrb-Y/s50-c-k-no/photo.jpg",
            "userId": "101497899883099583625"
          }
        }
      },
      "cell_type": "code",
      "source": [
        "target.shape"
      ],
      "execution_count": 77,
      "outputs": [
        {
          "output_type": "execute_result",
          "data": {
            "text/plain": [
              "(150,)"
            ]
          },
          "metadata": {
            "tags": []
          },
          "execution_count": 77
        }
      ]
    },
    {
      "metadata": {
        "id": "BYTGxAl0kn_Q",
        "colab_type": "code",
        "colab": {
          "autoexec": {
            "startup": false,
            "wait_interval": 0
          },
          "base_uri": "https://localhost:8080/",
          "height": 195
        },
        "outputId": "5b182080-4afd-4f67-8ce1-c3273050433d",
        "executionInfo": {
          "status": "ok",
          "timestamp": 1528751760286,
          "user_tz": -330,
          "elapsed": 1198,
          "user": {
            "displayName": "Shivam Maggu",
            "photoUrl": "//lh4.googleusercontent.com/-V6fh5FfvVss/AAAAAAAAAAI/AAAAAAAAAx8/6DlPYMNrb-Y/s50-c-k-no/photo.jpg",
            "userId": "101497899883099583625"
          }
        }
      },
      "cell_type": "code",
      "source": [
        "df = pd.DataFrame(data = data)\n",
        "df.head()"
      ],
      "execution_count": 78,
      "outputs": [
        {
          "output_type": "execute_result",
          "data": {
            "text/html": [
              "<div>\n",
              "<style scoped>\n",
              "    .dataframe tbody tr th:only-of-type {\n",
              "        vertical-align: middle;\n",
              "    }\n",
              "\n",
              "    .dataframe tbody tr th {\n",
              "        vertical-align: top;\n",
              "    }\n",
              "\n",
              "    .dataframe thead th {\n",
              "        text-align: right;\n",
              "    }\n",
              "</style>\n",
              "<table border=\"1\" class=\"dataframe\">\n",
              "  <thead>\n",
              "    <tr style=\"text-align: right;\">\n",
              "      <th></th>\n",
              "      <th>0</th>\n",
              "      <th>1</th>\n",
              "      <th>2</th>\n",
              "      <th>3</th>\n",
              "    </tr>\n",
              "  </thead>\n",
              "  <tbody>\n",
              "    <tr>\n",
              "      <th>0</th>\n",
              "      <td>5.1</td>\n",
              "      <td>3.5</td>\n",
              "      <td>1.4</td>\n",
              "      <td>0.2</td>\n",
              "    </tr>\n",
              "    <tr>\n",
              "      <th>1</th>\n",
              "      <td>4.9</td>\n",
              "      <td>3.0</td>\n",
              "      <td>1.4</td>\n",
              "      <td>0.2</td>\n",
              "    </tr>\n",
              "    <tr>\n",
              "      <th>2</th>\n",
              "      <td>4.7</td>\n",
              "      <td>3.2</td>\n",
              "      <td>1.3</td>\n",
              "      <td>0.2</td>\n",
              "    </tr>\n",
              "    <tr>\n",
              "      <th>3</th>\n",
              "      <td>4.6</td>\n",
              "      <td>3.1</td>\n",
              "      <td>1.5</td>\n",
              "      <td>0.2</td>\n",
              "    </tr>\n",
              "    <tr>\n",
              "      <th>4</th>\n",
              "      <td>5.0</td>\n",
              "      <td>3.6</td>\n",
              "      <td>1.4</td>\n",
              "      <td>0.2</td>\n",
              "    </tr>\n",
              "  </tbody>\n",
              "</table>\n",
              "</div>"
            ],
            "text/plain": [
              "     0    1    2    3\n",
              "0  5.1  3.5  1.4  0.2\n",
              "1  4.9  3.0  1.4  0.2\n",
              "2  4.7  3.2  1.3  0.2\n",
              "3  4.6  3.1  1.5  0.2\n",
              "4  5.0  3.6  1.4  0.2"
            ]
          },
          "metadata": {
            "tags": []
          },
          "execution_count": 78
        }
      ]
    },
    {
      "metadata": {
        "id": "6eYge9AxmcwG",
        "colab_type": "code",
        "colab": {
          "autoexec": {
            "startup": false,
            "wait_interval": 0
          },
          "base_uri": "https://localhost:8080/",
          "height": 195
        },
        "outputId": "0fbecc68-3481-40e0-d9ed-611a728f1df2",
        "executionInfo": {
          "status": "ok",
          "timestamp": 1528751762530,
          "user_tz": -330,
          "elapsed": 989,
          "user": {
            "displayName": "Shivam Maggu",
            "photoUrl": "//lh4.googleusercontent.com/-V6fh5FfvVss/AAAAAAAAAAI/AAAAAAAAAx8/6DlPYMNrb-Y/s50-c-k-no/photo.jpg",
            "userId": "101497899883099583625"
          }
        }
      },
      "cell_type": "code",
      "source": [
        "df.tail()"
      ],
      "execution_count": 79,
      "outputs": [
        {
          "output_type": "execute_result",
          "data": {
            "text/html": [
              "<div>\n",
              "<style scoped>\n",
              "    .dataframe tbody tr th:only-of-type {\n",
              "        vertical-align: middle;\n",
              "    }\n",
              "\n",
              "    .dataframe tbody tr th {\n",
              "        vertical-align: top;\n",
              "    }\n",
              "\n",
              "    .dataframe thead th {\n",
              "        text-align: right;\n",
              "    }\n",
              "</style>\n",
              "<table border=\"1\" class=\"dataframe\">\n",
              "  <thead>\n",
              "    <tr style=\"text-align: right;\">\n",
              "      <th></th>\n",
              "      <th>0</th>\n",
              "      <th>1</th>\n",
              "      <th>2</th>\n",
              "      <th>3</th>\n",
              "    </tr>\n",
              "  </thead>\n",
              "  <tbody>\n",
              "    <tr>\n",
              "      <th>145</th>\n",
              "      <td>6.7</td>\n",
              "      <td>3.0</td>\n",
              "      <td>5.2</td>\n",
              "      <td>2.3</td>\n",
              "    </tr>\n",
              "    <tr>\n",
              "      <th>146</th>\n",
              "      <td>6.3</td>\n",
              "      <td>2.5</td>\n",
              "      <td>5.0</td>\n",
              "      <td>1.9</td>\n",
              "    </tr>\n",
              "    <tr>\n",
              "      <th>147</th>\n",
              "      <td>6.5</td>\n",
              "      <td>3.0</td>\n",
              "      <td>5.2</td>\n",
              "      <td>2.0</td>\n",
              "    </tr>\n",
              "    <tr>\n",
              "      <th>148</th>\n",
              "      <td>6.2</td>\n",
              "      <td>3.4</td>\n",
              "      <td>5.4</td>\n",
              "      <td>2.3</td>\n",
              "    </tr>\n",
              "    <tr>\n",
              "      <th>149</th>\n",
              "      <td>5.9</td>\n",
              "      <td>3.0</td>\n",
              "      <td>5.1</td>\n",
              "      <td>1.8</td>\n",
              "    </tr>\n",
              "  </tbody>\n",
              "</table>\n",
              "</div>"
            ],
            "text/plain": [
              "       0    1    2    3\n",
              "145  6.7  3.0  5.2  2.3\n",
              "146  6.3  2.5  5.0  1.9\n",
              "147  6.5  3.0  5.2  2.0\n",
              "148  6.2  3.4  5.4  2.3\n",
              "149  5.9  3.0  5.1  1.8"
            ]
          },
          "metadata": {
            "tags": []
          },
          "execution_count": 79
        }
      ]
    },
    {
      "metadata": {
        "id": "ieFCsmJpkr3G",
        "colab_type": "code",
        "colab": {
          "autoexec": {
            "startup": false,
            "wait_interval": 0
          },
          "base_uri": "https://localhost:8080/",
          "height": 195
        },
        "outputId": "dacbaefa-fc09-4d89-eb93-063eb695ff86",
        "executionInfo": {
          "status": "ok",
          "timestamp": 1528751764916,
          "user_tz": -330,
          "elapsed": 974,
          "user": {
            "displayName": "Shivam Maggu",
            "photoUrl": "//lh4.googleusercontent.com/-V6fh5FfvVss/AAAAAAAAAAI/AAAAAAAAAx8/6DlPYMNrb-Y/s50-c-k-no/photo.jpg",
            "userId": "101497899883099583625"
          }
        }
      },
      "cell_type": "code",
      "source": [
        "df1 = pd.DataFrame(data = target)\n",
        "df1.head()"
      ],
      "execution_count": 80,
      "outputs": [
        {
          "output_type": "execute_result",
          "data": {
            "text/html": [
              "<div>\n",
              "<style scoped>\n",
              "    .dataframe tbody tr th:only-of-type {\n",
              "        vertical-align: middle;\n",
              "    }\n",
              "\n",
              "    .dataframe tbody tr th {\n",
              "        vertical-align: top;\n",
              "    }\n",
              "\n",
              "    .dataframe thead th {\n",
              "        text-align: right;\n",
              "    }\n",
              "</style>\n",
              "<table border=\"1\" class=\"dataframe\">\n",
              "  <thead>\n",
              "    <tr style=\"text-align: right;\">\n",
              "      <th></th>\n",
              "      <th>0</th>\n",
              "    </tr>\n",
              "  </thead>\n",
              "  <tbody>\n",
              "    <tr>\n",
              "      <th>0</th>\n",
              "      <td>0</td>\n",
              "    </tr>\n",
              "    <tr>\n",
              "      <th>1</th>\n",
              "      <td>0</td>\n",
              "    </tr>\n",
              "    <tr>\n",
              "      <th>2</th>\n",
              "      <td>0</td>\n",
              "    </tr>\n",
              "    <tr>\n",
              "      <th>3</th>\n",
              "      <td>0</td>\n",
              "    </tr>\n",
              "    <tr>\n",
              "      <th>4</th>\n",
              "      <td>0</td>\n",
              "    </tr>\n",
              "  </tbody>\n",
              "</table>\n",
              "</div>"
            ],
            "text/plain": [
              "   0\n",
              "0  0\n",
              "1  0\n",
              "2  0\n",
              "3  0\n",
              "4  0"
            ]
          },
          "metadata": {
            "tags": []
          },
          "execution_count": 80
        }
      ]
    },
    {
      "metadata": {
        "id": "ENcqxBrAk-p-",
        "colab_type": "code",
        "colab": {
          "autoexec": {
            "startup": false,
            "wait_interval": 0
          },
          "base_uri": "https://localhost:8080/",
          "height": 195
        },
        "outputId": "0b10338c-7b35-48b6-f729-429a5d9365bf",
        "executionInfo": {
          "status": "ok",
          "timestamp": 1528751768242,
          "user_tz": -330,
          "elapsed": 2008,
          "user": {
            "displayName": "Shivam Maggu",
            "photoUrl": "//lh4.googleusercontent.com/-V6fh5FfvVss/AAAAAAAAAAI/AAAAAAAAAx8/6DlPYMNrb-Y/s50-c-k-no/photo.jpg",
            "userId": "101497899883099583625"
          }
        }
      },
      "cell_type": "code",
      "source": [
        "df1.tail()"
      ],
      "execution_count": 81,
      "outputs": [
        {
          "output_type": "execute_result",
          "data": {
            "text/html": [
              "<div>\n",
              "<style scoped>\n",
              "    .dataframe tbody tr th:only-of-type {\n",
              "        vertical-align: middle;\n",
              "    }\n",
              "\n",
              "    .dataframe tbody tr th {\n",
              "        vertical-align: top;\n",
              "    }\n",
              "\n",
              "    .dataframe thead th {\n",
              "        text-align: right;\n",
              "    }\n",
              "</style>\n",
              "<table border=\"1\" class=\"dataframe\">\n",
              "  <thead>\n",
              "    <tr style=\"text-align: right;\">\n",
              "      <th></th>\n",
              "      <th>0</th>\n",
              "    </tr>\n",
              "  </thead>\n",
              "  <tbody>\n",
              "    <tr>\n",
              "      <th>145</th>\n",
              "      <td>2</td>\n",
              "    </tr>\n",
              "    <tr>\n",
              "      <th>146</th>\n",
              "      <td>2</td>\n",
              "    </tr>\n",
              "    <tr>\n",
              "      <th>147</th>\n",
              "      <td>2</td>\n",
              "    </tr>\n",
              "    <tr>\n",
              "      <th>148</th>\n",
              "      <td>2</td>\n",
              "    </tr>\n",
              "    <tr>\n",
              "      <th>149</th>\n",
              "      <td>2</td>\n",
              "    </tr>\n",
              "  </tbody>\n",
              "</table>\n",
              "</div>"
            ],
            "text/plain": [
              "     0\n",
              "145  2\n",
              "146  2\n",
              "147  2\n",
              "148  2\n",
              "149  2"
            ]
          },
          "metadata": {
            "tags": []
          },
          "execution_count": 81
        }
      ]
    },
    {
      "metadata": {
        "id": "kMzBylCcmGAs",
        "colab_type": "code",
        "colab": {
          "autoexec": {
            "startup": false,
            "wait_interval": 0
          }
        }
      },
      "cell_type": "code",
      "source": [
        "#b -> train test split dataset ; test size = 15%\n",
        "from sklearn.model_selection import train_test_split\n",
        "x_train , x_test , y_train , y_test = train_test_split(data , target , test_size = 0.25 , random_state = 42)"
      ],
      "execution_count": 0,
      "outputs": []
    },
    {
      "metadata": {
        "id": "yEqmEZxVnSXg",
        "colab_type": "code",
        "colab": {
          "autoexec": {
            "startup": false,
            "wait_interval": 0
          }
        }
      },
      "cell_type": "code",
      "source": [
        "#c ->GaussianNB\n",
        "from sklearn.naive_bayes import GaussianNB , MultinomialNB\n",
        "model1 = GaussianNB()"
      ],
      "execution_count": 0,
      "outputs": []
    },
    {
      "metadata": {
        "id": "54kLwD9yn13k",
        "colab_type": "code",
        "colab": {
          "autoexec": {
            "startup": false,
            "wait_interval": 0
          },
          "base_uri": "https://localhost:8080/",
          "height": 34
        },
        "outputId": "4cd984fa-2a41-45c7-fd83-b4151d2febfe",
        "executionInfo": {
          "status": "ok",
          "timestamp": 1528751777512,
          "user_tz": -330,
          "elapsed": 1647,
          "user": {
            "displayName": "Shivam Maggu",
            "photoUrl": "//lh4.googleusercontent.com/-V6fh5FfvVss/AAAAAAAAAAI/AAAAAAAAAx8/6DlPYMNrb-Y/s50-c-k-no/photo.jpg",
            "userId": "101497899883099583625"
          }
        }
      },
      "cell_type": "code",
      "source": [
        "model1.fit(x_train , y_train)"
      ],
      "execution_count": 84,
      "outputs": [
        {
          "output_type": "execute_result",
          "data": {
            "text/plain": [
              "GaussianNB(priors=None)"
            ]
          },
          "metadata": {
            "tags": []
          },
          "execution_count": 84
        }
      ]
    },
    {
      "metadata": {
        "id": "wyQTwjljn62i",
        "colab_type": "code",
        "colab": {
          "autoexec": {
            "startup": false,
            "wait_interval": 0
          }
        }
      },
      "cell_type": "code",
      "source": [
        "y_pred = model1.predict(x_test)"
      ],
      "execution_count": 0,
      "outputs": []
    },
    {
      "metadata": {
        "id": "fjWJqBzkoGx8",
        "colab_type": "code",
        "colab": {
          "autoexec": {
            "startup": false,
            "wait_interval": 0
          },
          "base_uri": "https://localhost:8080/",
          "height": 672
        },
        "outputId": "12419408-a7ed-4158-92da-6020005b1993",
        "executionInfo": {
          "status": "ok",
          "timestamp": 1528751781360,
          "user_tz": -330,
          "elapsed": 1005,
          "user": {
            "displayName": "Shivam Maggu",
            "photoUrl": "//lh4.googleusercontent.com/-V6fh5FfvVss/AAAAAAAAAAI/AAAAAAAAAx8/6DlPYMNrb-Y/s50-c-k-no/photo.jpg",
            "userId": "101497899883099583625"
          }
        }
      },
      "cell_type": "code",
      "source": [
        "data = {'Actual' : y_test , 'Predicted' : y_pred}\n",
        "out = pd.DataFrame(data = data)\n",
        "print(out)"
      ],
      "execution_count": 86,
      "outputs": [
        {
          "output_type": "stream",
          "text": [
            "    Actual  Predicted\n",
            "0        1          1\n",
            "1        0          0\n",
            "2        2          2\n",
            "3        1          1\n",
            "4        1          1\n",
            "5        0          0\n",
            "6        1          1\n",
            "7        2          2\n",
            "8        1          1\n",
            "9        1          1\n",
            "10       2          2\n",
            "11       0          0\n",
            "12       0          0\n",
            "13       0          0\n",
            "14       0          0\n",
            "15       1          1\n",
            "16       2          2\n",
            "17       1          1\n",
            "18       1          1\n",
            "19       2          2\n",
            "20       0          0\n",
            "21       2          2\n",
            "22       0          0\n",
            "23       2          2\n",
            "24       2          2\n",
            "25       2          2\n",
            "26       2          2\n",
            "27       2          2\n",
            "28       0          0\n",
            "29       0          0\n",
            "30       0          0\n",
            "31       0          0\n",
            "32       1          1\n",
            "33       0          0\n",
            "34       0          0\n",
            "35       2          2\n",
            "36       1          1\n",
            "37       0          0\n"
          ],
          "name": "stdout"
        }
      ]
    },
    {
      "metadata": {
        "id": "XVsQVZZood-k",
        "colab_type": "code",
        "colab": {
          "autoexec": {
            "startup": false,
            "wait_interval": 0
          },
          "base_uri": "https://localhost:8080/",
          "height": 67
        },
        "outputId": "c0ca5562-7dd2-4ac4-cd74-5bc5df61769d",
        "executionInfo": {
          "status": "ok",
          "timestamp": 1528751784406,
          "user_tz": -330,
          "elapsed": 950,
          "user": {
            "displayName": "Shivam Maggu",
            "photoUrl": "//lh4.googleusercontent.com/-V6fh5FfvVss/AAAAAAAAAAI/AAAAAAAAAx8/6DlPYMNrb-Y/s50-c-k-no/photo.jpg",
            "userId": "101497899883099583625"
          }
        }
      },
      "cell_type": "code",
      "source": [
        "#c(i)\n",
        "print(confusion_matrix(y_test , y_pred))"
      ],
      "execution_count": 87,
      "outputs": [
        {
          "output_type": "stream",
          "text": [
            "[[15  0  0]\n",
            " [ 0 11  0]\n",
            " [ 0  0 12]]\n"
          ],
          "name": "stdout"
        }
      ]
    },
    {
      "metadata": {
        "id": "esWaVWK3pqa9",
        "colab_type": "code",
        "colab": {
          "autoexec": {
            "startup": false,
            "wait_interval": 0
          },
          "base_uri": "https://localhost:8080/",
          "height": 151
        },
        "outputId": "c5ea6ece-87ef-4fcf-ab75-2acc9ddfd146",
        "executionInfo": {
          "status": "ok",
          "timestamp": 1528751787256,
          "user_tz": -330,
          "elapsed": 1571,
          "user": {
            "displayName": "Shivam Maggu",
            "photoUrl": "//lh4.googleusercontent.com/-V6fh5FfvVss/AAAAAAAAAAI/AAAAAAAAAx8/6DlPYMNrb-Y/s50-c-k-no/photo.jpg",
            "userId": "101497899883099583625"
          }
        }
      },
      "cell_type": "code",
      "source": [
        "#c(ii)\n",
        "print(classification_report(y_test , y_pred))"
      ],
      "execution_count": 88,
      "outputs": [
        {
          "output_type": "stream",
          "text": [
            "             precision    recall  f1-score   support\n",
            "\n",
            "          0       1.00      1.00      1.00        15\n",
            "          1       1.00      1.00      1.00        11\n",
            "          2       1.00      1.00      1.00        12\n",
            "\n",
            "avg / total       1.00      1.00      1.00        38\n",
            "\n"
          ],
          "name": "stdout"
        }
      ]
    },
    {
      "metadata": {
        "id": "SberuJQPp3_4",
        "colab_type": "code",
        "colab": {
          "autoexec": {
            "startup": false,
            "wait_interval": 0
          },
          "base_uri": "https://localhost:8080/",
          "height": 34
        },
        "outputId": "33fb137a-7912-4c0f-be3f-cc22974820f3",
        "executionInfo": {
          "status": "ok",
          "timestamp": 1528751789538,
          "user_tz": -330,
          "elapsed": 979,
          "user": {
            "displayName": "Shivam Maggu",
            "photoUrl": "//lh4.googleusercontent.com/-V6fh5FfvVss/AAAAAAAAAAI/AAAAAAAAAx8/6DlPYMNrb-Y/s50-c-k-no/photo.jpg",
            "userId": "101497899883099583625"
          }
        }
      },
      "cell_type": "code",
      "source": [
        "print(accuracy_score(y_test , y_pred))"
      ],
      "execution_count": 89,
      "outputs": [
        {
          "output_type": "stream",
          "text": [
            "1.0\n"
          ],
          "name": "stdout"
        }
      ]
    },
    {
      "metadata": {
        "id": "s6-pUcQJpbx2",
        "colab_type": "code",
        "colab": {
          "autoexec": {
            "startup": false,
            "wait_interval": 0
          }
        }
      },
      "cell_type": "code",
      "source": [
        "#d -> MultinomailNB\n",
        "model2 = MultinomialNB()"
      ],
      "execution_count": 0,
      "outputs": []
    },
    {
      "metadata": {
        "id": "3FxM4Jhiqkum",
        "colab_type": "code",
        "colab": {
          "autoexec": {
            "startup": false,
            "wait_interval": 0
          },
          "base_uri": "https://localhost:8080/",
          "height": 34
        },
        "outputId": "21e6c135-30f1-4df5-f66e-1dc65fb06a45",
        "executionInfo": {
          "status": "ok",
          "timestamp": 1528751795314,
          "user_tz": -330,
          "elapsed": 1158,
          "user": {
            "displayName": "Shivam Maggu",
            "photoUrl": "//lh4.googleusercontent.com/-V6fh5FfvVss/AAAAAAAAAAI/AAAAAAAAAx8/6DlPYMNrb-Y/s50-c-k-no/photo.jpg",
            "userId": "101497899883099583625"
          }
        }
      },
      "cell_type": "code",
      "source": [
        "model2.fit(x_train , y_train)"
      ],
      "execution_count": 91,
      "outputs": [
        {
          "output_type": "execute_result",
          "data": {
            "text/plain": [
              "MultinomialNB(alpha=1.0, class_prior=None, fit_prior=True)"
            ]
          },
          "metadata": {
            "tags": []
          },
          "execution_count": 91
        }
      ]
    },
    {
      "metadata": {
        "id": "D-vCfu2Uqq2d",
        "colab_type": "code",
        "colab": {
          "autoexec": {
            "startup": false,
            "wait_interval": 0
          }
        }
      },
      "cell_type": "code",
      "source": [
        "y_pred2 = model2.predict(x_test)"
      ],
      "execution_count": 0,
      "outputs": []
    },
    {
      "metadata": {
        "id": "PlvYCzM5qxP3",
        "colab_type": "code",
        "colab": {
          "autoexec": {
            "startup": false,
            "wait_interval": 0
          },
          "base_uri": "https://localhost:8080/",
          "height": 672
        },
        "outputId": "0d0b79ef-f1c6-4bc5-e55a-72d9f2baed5e",
        "executionInfo": {
          "status": "ok",
          "timestamp": 1528751799960,
          "user_tz": -330,
          "elapsed": 1406,
          "user": {
            "displayName": "Shivam Maggu",
            "photoUrl": "//lh4.googleusercontent.com/-V6fh5FfvVss/AAAAAAAAAAI/AAAAAAAAAx8/6DlPYMNrb-Y/s50-c-k-no/photo.jpg",
            "userId": "101497899883099583625"
          }
        }
      },
      "cell_type": "code",
      "source": [
        "data = {'Actual' : y_test , 'Predicted' : y_pred2}\n",
        "out2 = pd.DataFrame(data)\n",
        "print(out2)"
      ],
      "execution_count": 93,
      "outputs": [
        {
          "output_type": "stream",
          "text": [
            "    Actual  Predicted\n",
            "0        1          1\n",
            "1        0          0\n",
            "2        2          2\n",
            "3        1          1\n",
            "4        1          1\n",
            "5        0          0\n",
            "6        1          1\n",
            "7        2          2\n",
            "8        1          1\n",
            "9        1          1\n",
            "10       2          2\n",
            "11       0          0\n",
            "12       0          0\n",
            "13       0          0\n",
            "14       0          0\n",
            "15       1          1\n",
            "16       2          2\n",
            "17       1          1\n",
            "18       1          1\n",
            "19       2          2\n",
            "20       0          0\n",
            "21       2          2\n",
            "22       0          0\n",
            "23       2          2\n",
            "24       2          1\n",
            "25       2          2\n",
            "26       2          2\n",
            "27       2          2\n",
            "28       0          0\n",
            "29       0          0\n",
            "30       0          0\n",
            "31       0          0\n",
            "32       1          1\n",
            "33       0          0\n",
            "34       0          0\n",
            "35       2          2\n",
            "36       1          1\n",
            "37       0          0\n"
          ],
          "name": "stdout"
        }
      ]
    },
    {
      "metadata": {
        "id": "SQUtuf0RrGkR",
        "colab_type": "code",
        "colab": {
          "autoexec": {
            "startup": false,
            "wait_interval": 0
          },
          "base_uri": "https://localhost:8080/",
          "height": 67
        },
        "outputId": "93aba8bf-9a0e-40cc-8192-0174a276c2da",
        "executionInfo": {
          "status": "ok",
          "timestamp": 1528751802124,
          "user_tz": -330,
          "elapsed": 948,
          "user": {
            "displayName": "Shivam Maggu",
            "photoUrl": "//lh4.googleusercontent.com/-V6fh5FfvVss/AAAAAAAAAAI/AAAAAAAAAx8/6DlPYMNrb-Y/s50-c-k-no/photo.jpg",
            "userId": "101497899883099583625"
          }
        }
      },
      "cell_type": "code",
      "source": [
        "#d(i)\n",
        "print(confusion_matrix(y_test , y_pred2))"
      ],
      "execution_count": 94,
      "outputs": [
        {
          "output_type": "stream",
          "text": [
            "[[15  0  0]\n",
            " [ 0 11  0]\n",
            " [ 0  1 11]]\n"
          ],
          "name": "stdout"
        }
      ]
    },
    {
      "metadata": {
        "id": "_RQNsSNFrSeA",
        "colab_type": "code",
        "colab": {
          "autoexec": {
            "startup": false,
            "wait_interval": 0
          },
          "base_uri": "https://localhost:8080/",
          "height": 151
        },
        "outputId": "f7eb07f2-74a7-4c7b-c9b5-8be01935258d",
        "executionInfo": {
          "status": "ok",
          "timestamp": 1528751804784,
          "user_tz": -330,
          "elapsed": 991,
          "user": {
            "displayName": "Shivam Maggu",
            "photoUrl": "//lh4.googleusercontent.com/-V6fh5FfvVss/AAAAAAAAAAI/AAAAAAAAAx8/6DlPYMNrb-Y/s50-c-k-no/photo.jpg",
            "userId": "101497899883099583625"
          }
        }
      },
      "cell_type": "code",
      "source": [
        "#d(ii)\n",
        "print(classification_report(y_test , y_pred2))"
      ],
      "execution_count": 95,
      "outputs": [
        {
          "output_type": "stream",
          "text": [
            "             precision    recall  f1-score   support\n",
            "\n",
            "          0       1.00      1.00      1.00        15\n",
            "          1       0.92      1.00      0.96        11\n",
            "          2       1.00      0.92      0.96        12\n",
            "\n",
            "avg / total       0.98      0.97      0.97        38\n",
            "\n"
          ],
          "name": "stdout"
        }
      ]
    },
    {
      "metadata": {
        "id": "trfhUUatrYFW",
        "colab_type": "code",
        "colab": {
          "autoexec": {
            "startup": false,
            "wait_interval": 0
          },
          "base_uri": "https://localhost:8080/",
          "height": 34
        },
        "outputId": "47b12017-13a0-4614-8225-a8afce8935a4",
        "executionInfo": {
          "status": "ok",
          "timestamp": 1528751807176,
          "user_tz": -330,
          "elapsed": 878,
          "user": {
            "displayName": "Shivam Maggu",
            "photoUrl": "//lh4.googleusercontent.com/-V6fh5FfvVss/AAAAAAAAAAI/AAAAAAAAAx8/6DlPYMNrb-Y/s50-c-k-no/photo.jpg",
            "userId": "101497899883099583625"
          }
        }
      },
      "cell_type": "code",
      "source": [
        "print(accuracy_score(y_test , y_pred2))"
      ],
      "execution_count": 96,
      "outputs": [
        {
          "output_type": "stream",
          "text": [
            "0.9736842105263158\n"
          ],
          "name": "stdout"
        }
      ]
    }
  ]
}