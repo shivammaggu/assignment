{
  "nbformat": 4,
  "nbformat_minor": 0,
  "metadata": {
    "colab": {
      "name": "assignment_12.ipynb",
      "version": "0.3.2",
      "views": {},
      "default_view": {},
      "provenance": []
    },
    "kernelspec": {
      "name": "python3",
      "display_name": "Python 3"
    }
  },
  "cells": [
    {
      "metadata": {
        "id": "ZdXFuQn4CARg",
        "colab_type": "code",
        "colab": {
          "autoexec": {
            "startup": false,
            "wait_interval": 0
          }
        }
      },
      "cell_type": "code",
      "source": [
        "#Question 1\n",
        "#import libraries\n",
        "import numpy as np\n",
        "import pandas as pd\n",
        "import matplotlib.pyplot as plt\n",
        "import seaborn as sns\n",
        "%matplotlib inline"
      ],
      "execution_count": 0,
      "outputs": []
    },
    {
      "metadata": {
        "id": "gHX99EnEDsr6",
        "colab_type": "code",
        "colab": {
          "autoexec": {
            "startup": false,
            "wait_interval": 0
          }
        }
      },
      "cell_type": "code",
      "source": [
        "from sklearn import datasets\n",
        "from sklearn.metrics import classification_report , confusion_matrix , accuracy_score"
      ],
      "execution_count": 0,
      "outputs": []
    },
    {
      "metadata": {
        "id": "TRcrE9PTEFlV",
        "colab_type": "code",
        "colab": {
          "autoexec": {
            "startup": false,
            "wait_interval": 0
          }
        }
      },
      "cell_type": "code",
      "source": [
        "data , target = datasets.load_digits(return_X_y = True)"
      ],
      "execution_count": 0,
      "outputs": []
    },
    {
      "metadata": {
        "id": "QfbogVTUEW31",
        "colab_type": "code",
        "colab": {
          "autoexec": {
            "startup": false,
            "wait_interval": 0
          },
          "base_uri": "https://localhost:8080/",
          "height": 34
        },
        "outputId": "d16da47c-fef5-4c07-f886-ccdeee1b7975",
        "executionInfo": {
          "status": "ok",
          "timestamp": 1528847197112,
          "user_tz": -330,
          "elapsed": 977,
          "user": {
            "displayName": "Shivam Maggu",
            "photoUrl": "//lh4.googleusercontent.com/-V6fh5FfvVss/AAAAAAAAAAI/AAAAAAAAAx8/6DlPYMNrb-Y/s50-c-k-no/photo.jpg",
            "userId": "101497899883099583625"
          }
        }
      },
      "cell_type": "code",
      "source": [
        "data.shape"
      ],
      "execution_count": 5,
      "outputs": [
        {
          "output_type": "execute_result",
          "data": {
            "text/plain": [
              "(1797, 64)"
            ]
          },
          "metadata": {
            "tags": []
          },
          "execution_count": 5
        }
      ]
    },
    {
      "metadata": {
        "id": "fyDg9VpZEpMF",
        "colab_type": "code",
        "colab": {
          "autoexec": {
            "startup": false,
            "wait_interval": 0
          },
          "base_uri": "https://localhost:8080/",
          "height": 34
        },
        "outputId": "c0b6ccf2-472f-463c-b81e-bdf3375f8b75",
        "executionInfo": {
          "status": "ok",
          "timestamp": 1528847199477,
          "user_tz": -330,
          "elapsed": 879,
          "user": {
            "displayName": "Shivam Maggu",
            "photoUrl": "//lh4.googleusercontent.com/-V6fh5FfvVss/AAAAAAAAAAI/AAAAAAAAAx8/6DlPYMNrb-Y/s50-c-k-no/photo.jpg",
            "userId": "101497899883099583625"
          }
        }
      },
      "cell_type": "code",
      "source": [
        "target.shape"
      ],
      "execution_count": 6,
      "outputs": [
        {
          "output_type": "execute_result",
          "data": {
            "text/plain": [
              "(1797,)"
            ]
          },
          "metadata": {
            "tags": []
          },
          "execution_count": 6
        }
      ]
    },
    {
      "metadata": {
        "id": "C0O1dQIfKe0k",
        "colab_type": "code",
        "colab": {
          "autoexec": {
            "startup": false,
            "wait_interval": 0
          },
          "base_uri": "https://localhost:8080/",
          "height": 240
        },
        "outputId": "02e90f08-2a8e-4021-89b2-b8d9b77db0a9",
        "executionInfo": {
          "status": "ok",
          "timestamp": 1528847202463,
          "user_tz": -330,
          "elapsed": 1130,
          "user": {
            "displayName": "Shivam Maggu",
            "photoUrl": "//lh4.googleusercontent.com/-V6fh5FfvVss/AAAAAAAAAAI/AAAAAAAAAx8/6DlPYMNrb-Y/s50-c-k-no/photo.jpg",
            "userId": "101497899883099583625"
          }
        }
      },
      "cell_type": "code",
      "source": [
        "plt.figure(figsize = (20,4))\n",
        "for index , (image,label) in enumerate(zip(data[0:5] , target[0:5])):\n",
        "  plt.subplot(1,5,index+1)\n",
        "  plt.imshow(np.reshape(image , (8,8)) , cmap = plt.cm.gray)"
      ],
      "execution_count": 7,
      "outputs": [
        {
          "output_type": "display_data",
          "data": {
            "image/png": "[encoded data removed]",
            "text/plain": [
              "<matplotlib.figure.Figure at 0x7f957181e0f0>"
            ]
          },
          "metadata": {
            "tags": []
          }
        }
      ]
    },
    {
      "metadata": {
        "id": "Ph1igVI_Eqqd",
        "colab_type": "code",
        "colab": {
          "autoexec": {
            "startup": false,
            "wait_interval": 0
          }
        }
      },
      "cell_type": "code",
      "source": [
        "x = pd.DataFrame(data = data)"
      ],
      "execution_count": 0,
      "outputs": []
    },
    {
      "metadata": {
        "id": "nYk6epdzFDlO",
        "colab_type": "code",
        "colab": {
          "autoexec": {
            "startup": false,
            "wait_interval": 0
          }
        }
      },
      "cell_type": "code",
      "source": [
        "y = pd.DataFrame(data = target)"
      ],
      "execution_count": 0,
      "outputs": []
    },
    {
      "metadata": {
        "id": "mVyrswZwKiW6",
        "colab_type": "code",
        "colab": {
          "autoexec": {
            "startup": false,
            "wait_interval": 0
          },
          "base_uri": "https://localhost:8080/",
          "height": 195
        },
        "outputId": "d1cd2dad-a58d-43c1-f442-2d4cc47ddc18",
        "executionInfo": {
          "status": "ok",
          "timestamp": 1528847209825,
          "user_tz": -330,
          "elapsed": 906,
          "user": {
            "displayName": "Shivam Maggu",
            "photoUrl": "//lh4.googleusercontent.com/-V6fh5FfvVss/AAAAAAAAAAI/AAAAAAAAAx8/6DlPYMNrb-Y/s50-c-k-no/photo.jpg",
            "userId": "101497899883099583625"
          }
        }
      },
      "cell_type": "code",
      "source": [
        "y.head()"
      ],
      "execution_count": 10,
      "outputs": [
        {
          "output_type": "execute_result",
          "data": {
            "text/html": [
              "<div>\n",
              "<style scoped>\n",
              "    .dataframe tbody tr th:only-of-type {\n",
              "        vertical-align: middle;\n",
              "    }\n",
              "\n",
              "    .dataframe tbody tr th {\n",
              "        vertical-align: top;\n",
              "    }\n",
              "\n",
              "    .dataframe thead th {\n",
              "        text-align: right;\n",
              "    }\n",
              "</style>\n",
              "<table border=\"1\" class=\"dataframe\">\n",
              "  <thead>\n",
              "    <tr style=\"text-align: right;\">\n",
              "      <th></th>\n",
              "      <th>0</th>\n",
              "    </tr>\n",
              "  </thead>\n",
              "  <tbody>\n",
              "    <tr>\n",
              "      <th>0</th>\n",
              "      <td>0</td>\n",
              "    </tr>\n",
              "    <tr>\n",
              "      <th>1</th>\n",
              "      <td>1</td>\n",
              "    </tr>\n",
              "    <tr>\n",
              "      <th>2</th>\n",
              "      <td>2</td>\n",
              "    </tr>\n",
              "    <tr>\n",
              "      <th>3</th>\n",
              "      <td>3</td>\n",
              "    </tr>\n",
              "    <tr>\n",
              "      <th>4</th>\n",
              "      <td>4</td>\n",
              "    </tr>\n",
              "  </tbody>\n",
              "</table>\n",
              "</div>"
            ],
            "text/plain": [
              "   0\n",
              "0  0\n",
              "1  1\n",
              "2  2\n",
              "3  3\n",
              "4  4"
            ]
          },
          "metadata": {
            "tags": []
          },
          "execution_count": 10
        }
      ]
    },
    {
      "metadata": {
        "id": "jwFKWDHOFcoo",
        "colab_type": "code",
        "colab": {
          "autoexec": {
            "startup": false,
            "wait_interval": 0
          }
        }
      },
      "cell_type": "code",
      "source": [
        "#Question 2\n",
        "from sklearn.model_selection import train_test_split\n",
        "train_x , test_x , train_y , test_y  = train_test_split(x,y,test_size = 0.3 , random_state = 42)"
      ],
      "execution_count": 0,
      "outputs": []
    },
    {
      "metadata": {
        "id": "BwSPsRLwHAW_",
        "colab_type": "code",
        "colab": {
          "autoexec": {
            "startup": false,
            "wait_interval": 0
          }
        }
      },
      "cell_type": "code",
      "source": [
        "#Question 3 a\n",
        "from sklearn.svm import SVC"
      ],
      "execution_count": 0,
      "outputs": []
    },
    {
      "metadata": {
        "id": "jW-17Yv2IOop",
        "colab_type": "code",
        "colab": {
          "autoexec": {
            "startup": false,
            "wait_interval": 0
          },
          "base_uri": "https://localhost:8080/",
          "height": 507
        },
        "outputId": "7dd157b6-3f1a-4de0-bba9-6c4a36d3c452",
        "executionInfo": {
          "status": "ok",
          "timestamp": 1528847279963,
          "user_tz": -330,
          "elapsed": 1000,
          "user": {
            "displayName": "Shivam Maggu",
            "photoUrl": "//lh4.googleusercontent.com/-V6fh5FfvVss/AAAAAAAAAAI/AAAAAAAAAx8/6DlPYMNrb-Y/s50-c-k-no/photo.jpg",
            "userId": "101497899883099583625"
          }
        }
      },
      "cell_type": "code",
      "source": [
        "model = SVC(kernel = 'linear')\n",
        "model.fit(train_x , train_y)\n",
        "y_pred = model.predict(test_x)\n",
        "print(accuracy_score(test_y , y_pred))\n",
        "print(confusion_matrix(test_y , y_pred))\n",
        "print(classification_report(test_y , y_pred))"
      ],
      "execution_count": 16,
      "outputs": [
        {
          "output_type": "stream",
          "text": [
            "0.9796296296296296\n",
            "[[53  0  0  0  0  0  0  0  0  0]\n",
            " [ 0 49  0  0  0  0  0  0  1  0]\n",
            " [ 0  0 47  0  0  0  0  0  0  0]\n",
            " [ 0  0  1 52  0  1  0  0  0  0]\n",
            " [ 0  1  0  0 59  0  0  0  0  0]\n",
            " [ 0  0  0  0  0 64  0  1  0  1]\n",
            " [ 0  0  0  0  0  0 53  0  0  0]\n",
            " [ 0  0  0  0  0  0  0 54  0  1]\n",
            " [ 0  0  0  0  0  1  0  0 42  0]\n",
            " [ 0  0  0  0  1  0  0  1  1 56]]\n",
            "             precision    recall  f1-score   support\n",
            "\n",
            "          0       1.00      1.00      1.00        53\n",
            "          1       0.98      0.98      0.98        50\n",
            "          2       0.98      1.00      0.99        47\n",
            "          3       1.00      0.96      0.98        54\n",
            "          4       0.98      0.98      0.98        60\n",
            "          5       0.97      0.97      0.97        66\n",
            "          6       1.00      1.00      1.00        53\n",
            "          7       0.96      0.98      0.97        55\n",
            "          8       0.95      0.98      0.97        43\n",
            "          9       0.97      0.95      0.96        59\n",
            "\n",
            "avg / total       0.98      0.98      0.98       540\n",
            "\n"
          ],
          "name": "stdout"
        },
        {
          "output_type": "stream",
          "text": [
            "/usr/local/lib/python3.6/dist-packages/sklearn/utils/validation.py:578: DataConversionWarning: A column-vector y was passed when a 1d array was expected. Please change the shape of y to (n_samples, ), for example using ravel().\n",
            "  y = column_or_1d(y, warn=True)\n"
          ],
          "name": "stderr"
        }
      ]
    },
    {
      "metadata": {
        "id": "je8ZWJ9HI4f9",
        "colab_type": "code",
        "colab": {
          "autoexec": {
            "startup": false,
            "wait_interval": 0
          },
          "base_uri": "https://localhost:8080/",
          "height": 507
        },
        "outputId": "a523c3e1-5e8c-4ac8-b6a6-be6845f61c5d",
        "executionInfo": {
          "status": "ok",
          "timestamp": 1528847283398,
          "user_tz": -330,
          "elapsed": 935,
          "user": {
            "displayName": "Shivam Maggu",
            "photoUrl": "//lh4.googleusercontent.com/-V6fh5FfvVss/AAAAAAAAAAI/AAAAAAAAAx8/6DlPYMNrb-Y/s50-c-k-no/photo.jpg",
            "userId": "101497899883099583625"
          }
        }
      },
      "cell_type": "code",
      "source": [
        "#3 b\n",
        "model = SVC(kernel = 'poly' , degree = 6)\n",
        "model.fit(train_x , train_y)\n",
        "y_pred = model.predict(test_x)\n",
        "print(accuracy_score(test_y , y_pred))\n",
        "print(confusion_matrix(test_y , y_pred))\n",
        "print(classification_report(test_y , y_pred))"
      ],
      "execution_count": 17,
      "outputs": [
        {
          "output_type": "stream",
          "text": [
            "0.975925925925926\n",
            "[[53  0  0  0  0  0  0  0  0  0]\n",
            " [ 0 47  0  0  0  0  0  0  3  0]\n",
            " [ 0  0 47  0  0  0  0  0  0  0]\n",
            " [ 0  0  0 52  0  1  0  0  1  0]\n",
            " [ 0  0  0  0 60  0  0  0  0  0]\n",
            " [ 0  0  0  0  0 65  0  0  0  1]\n",
            " [ 0  0  0  0  0  0 53  0  0  0]\n",
            " [ 0  0  0  0  0  0  0 54  0  1]\n",
            " [ 0  2  0  0  0  0  0  0 40  1]\n",
            " [ 0  0  0  2  0  0  0  1  0 56]]\n",
            "             precision    recall  f1-score   support\n",
            "\n",
            "          0       1.00      1.00      1.00        53\n",
            "          1       0.96      0.94      0.95        50\n",
            "          2       1.00      1.00      1.00        47\n",
            "          3       0.96      0.96      0.96        54\n",
            "          4       1.00      1.00      1.00        60\n",
            "          5       0.98      0.98      0.98        66\n",
            "          6       1.00      1.00      1.00        53\n",
            "          7       0.98      0.98      0.98        55\n",
            "          8       0.91      0.93      0.92        43\n",
            "          9       0.95      0.95      0.95        59\n",
            "\n",
            "avg / total       0.98      0.98      0.98       540\n",
            "\n"
          ],
          "name": "stdout"
        },
        {
          "output_type": "stream",
          "text": [
            "/usr/local/lib/python3.6/dist-packages/sklearn/utils/validation.py:578: DataConversionWarning: A column-vector y was passed when a 1d array was expected. Please change the shape of y to (n_samples, ), for example using ravel().\n",
            "  y = column_or_1d(y, warn=True)\n"
          ],
          "name": "stderr"
        }
      ]
    },
    {
      "metadata": {
        "id": "KW675GhVOB-q",
        "colab_type": "code",
        "colab": {
          "autoexec": {
            "startup": false,
            "wait_interval": 0
          },
          "base_uri": "https://localhost:8080/",
          "height": 541
        },
        "outputId": "d4bde47d-cd38-4acc-d306-db35ebf88b8b",
        "executionInfo": {
          "status": "ok",
          "timestamp": 1528847286432,
          "user_tz": -330,
          "elapsed": 1146,
          "user": {
            "displayName": "Shivam Maggu",
            "photoUrl": "//lh4.googleusercontent.com/-V6fh5FfvVss/AAAAAAAAAAI/AAAAAAAAAx8/6DlPYMNrb-Y/s50-c-k-no/photo.jpg",
            "userId": "101497899883099583625"
          }
        }
      },
      "cell_type": "code",
      "source": [
        "#3 c\n",
        "model = SVC(kernel = 'rbf')\n",
        "model.fit(train_x , train_y)\n",
        "y_pred = model.predict(test_x)\n",
        "print(accuracy_score(test_y , y_pred))\n",
        "print(confusion_matrix(test_y , y_pred))\n",
        "print(classification_report(test_y , y_pred))"
      ],
      "execution_count": 18,
      "outputs": [
        {
          "output_type": "stream",
          "text": [
            "/usr/local/lib/python3.6/dist-packages/sklearn/utils/validation.py:578: DataConversionWarning: A column-vector y was passed when a 1d array was expected. Please change the shape of y to (n_samples, ), for example using ravel().\n",
            "  y = column_or_1d(y, warn=True)\n"
          ],
          "name": "stderr"
        },
        {
          "output_type": "stream",
          "text": [
            "0.3925925925925926\n",
            "[[21  0  0  0  0  0  0  0 32  0]\n",
            " [ 0 21  0  0  0  0  0  0 29  0]\n",
            " [ 0  0 26  0  0  0  0  0 21  0]\n",
            " [ 0  0  0 26  0  0  0  0 28  0]\n",
            " [ 0  0  0  0 15  0  0  0 45  0]\n",
            " [ 0  0  0  0  0  0  0  0 66  0]\n",
            " [ 0  0  0  0  0  0 35  0 18  0]\n",
            " [ 0  0  0  0  0  0  0 19 36  0]\n",
            " [ 0  0  0  0  0  0  0  0 43  0]\n",
            " [ 0  0  0  0  0  0  0  0 53  6]]\n",
            "             precision    recall  f1-score   support\n",
            "\n",
            "          0       1.00      0.40      0.57        53\n",
            "          1       1.00      0.42      0.59        50\n",
            "          2       1.00      0.55      0.71        47\n",
            "          3       1.00      0.48      0.65        54\n",
            "          4       1.00      0.25      0.40        60\n",
            "          5       0.00      0.00      0.00        66\n",
            "          6       1.00      0.66      0.80        53\n",
            "          7       1.00      0.35      0.51        55\n",
            "          8       0.12      1.00      0.21        43\n",
            "          9       1.00      0.10      0.18        59\n",
            "\n",
            "avg / total       0.81      0.39      0.45       540\n",
            "\n"
          ],
          "name": "stdout"
        },
        {
          "output_type": "stream",
          "text": [
            "/usr/local/lib/python3.6/dist-packages/sklearn/metrics/classification.py:1135: UndefinedMetricWarning: Precision and F-score are ill-defined and being set to 0.0 in labels with no predicted samples.\n",
            "  'precision', 'predicted', average, warn_for)\n"
          ],
          "name": "stderr"
        }
      ]
    },
    {
      "metadata": {
        "id": "w5B3JAaEOPWZ",
        "colab_type": "code",
        "colab": {
          "autoexec": {
            "startup": false,
            "wait_interval": 0
          },
          "base_uri": "https://localhost:8080/",
          "height": 541
        },
        "outputId": "f5eef234-f6bf-4a53-c10e-e00d2b37b2a9",
        "executionInfo": {
          "status": "ok",
          "timestamp": 1528847289688,
          "user_tz": -330,
          "elapsed": 961,
          "user": {
            "displayName": "Shivam Maggu",
            "photoUrl": "//lh4.googleusercontent.com/-V6fh5FfvVss/AAAAAAAAAAI/AAAAAAAAAx8/6DlPYMNrb-Y/s50-c-k-no/photo.jpg",
            "userId": "101497899883099583625"
          }
        }
      },
      "cell_type": "code",
      "source": [
        "#3 d\n",
        "model = SVC(kernel = 'sigmoid' , degree = 15)\n",
        "model.fit(train_x , train_y)\n",
        "y_pred = model.predict(test_x)\n",
        "print(accuracy_score(test_y , y_pred))\n",
        "print(confusion_matrix(test_y , y_pred))\n",
        "print(classification_report(test_y , y_pred))"
      ],
      "execution_count": 19,
      "outputs": [
        {
          "output_type": "stream",
          "text": [
            "/usr/local/lib/python3.6/dist-packages/sklearn/utils/validation.py:578: DataConversionWarning: A column-vector y was passed when a 1d array was expected. Please change the shape of y to (n_samples, ), for example using ravel().\n",
            "  y = column_or_1d(y, warn=True)\n"
          ],
          "name": "stderr"
        },
        {
          "output_type": "stream",
          "text": [
            "0.09259259259259259\n",
            "[[ 0 53  0  0  0  0  0  0  0  0]\n",
            " [ 0 50  0  0  0  0  0  0  0  0]\n",
            " [ 0 47  0  0  0  0  0  0  0  0]\n",
            " [ 0 54  0  0  0  0  0  0  0  0]\n",
            " [ 0 60  0  0  0  0  0  0  0  0]\n",
            " [ 0 66  0  0  0  0  0  0  0  0]\n",
            " [ 0 53  0  0  0  0  0  0  0  0]\n",
            " [ 0 55  0  0  0  0  0  0  0  0]\n",
            " [ 0 43  0  0  0  0  0  0  0  0]\n",
            " [ 0 59  0  0  0  0  0  0  0  0]]\n",
            "             precision    recall  f1-score   support\n",
            "\n",
            "          0       0.00      0.00      0.00        53\n",
            "          1       0.09      1.00      0.17        50\n",
            "          2       0.00      0.00      0.00        47\n",
            "          3       0.00      0.00      0.00        54\n",
            "          4       0.00      0.00      0.00        60\n",
            "          5       0.00      0.00      0.00        66\n",
            "          6       0.00      0.00      0.00        53\n",
            "          7       0.00      0.00      0.00        55\n",
            "          8       0.00      0.00      0.00        43\n",
            "          9       0.00      0.00      0.00        59\n",
            "\n",
            "avg / total       0.01      0.09      0.02       540\n",
            "\n"
          ],
          "name": "stdout"
        },
        {
          "output_type": "stream",
          "text": [
            "/usr/local/lib/python3.6/dist-packages/sklearn/metrics/classification.py:1135: UndefinedMetricWarning: Precision and F-score are ill-defined and being set to 0.0 in labels with no predicted samples.\n",
            "  'precision', 'predicted', average, warn_for)\n"
          ],
          "name": "stderr"
        }
      ]
    },
    {
      "metadata": {
        "id": "OMM6_xWtOhGd",
        "colab_type": "code",
        "colab": {
          "autoexec": {
            "startup": false,
            "wait_interval": 0
          }
        }
      },
      "cell_type": "code",
      "source": [
        ""
      ],
      "execution_count": 0,
      "outputs": []
    }
  ]
}