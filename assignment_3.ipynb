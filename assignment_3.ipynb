{
 "cells": [
  {
   "cell_type": "code",
   "execution_count": 52,
   "metadata": {},
   "outputs": [
    {
     "name": "stdout",
     "output_type": "stream",
     "text": [
      "Probability P(B|A) = 0.0303030303030303\n"
     ]
    }
   ],
   "source": [
    "#Question 1\n",
    "\n",
    "def fun1(Pa,Pb,Pab):\n",
    "    Pba = ((Pab*Pb)/Pa)\n",
    "    return Pba\n",
    "print(\"Probability P(B|A) = \" + str(fun1(11/36,6/36,2/36)))  "
   ]
  },
  {
   "cell_type": "code",
   "execution_count": 54,
   "metadata": {},
   "outputs": [
    {
     "name": "stdout",
     "output_type": "stream",
     "text": [
      "probability to find a black ball from bag 1 is = 0.5833333333333334\n"
     ]
    }
   ],
   "source": [
    "#Question 2\n",
    "\n",
    "Pb = 1/2.0\n",
    "Pb1 = 6/10.0\n",
    "Pb2 = 3/7.0\n",
    "Pt = (Pb*Pb1)/(Pb1*Pb + Pb2*Pb)\n",
    "print(\"probability to find a black ball from bag 1 is = \" + str(Pt))"
   ]
  },
  {
   "cell_type": "code",
   "execution_count": 57,
   "metadata": {},
   "outputs": [
    {
     "name": "stdout",
     "output_type": "stream",
     "text": [
      "probability that no is actually 4 = 0.2857142857142857\n"
     ]
    }
   ],
   "source": [
    "#Question 3\n",
    "\n",
    "Pt = 2/3.0\n",
    "Pf = 1/3.0\n",
    "Pnt = 1/6.0\n",
    "Pnf = 5/6.0\n",
    "p = ((Pt*Pnt)/(Pt*Pnt + Pf*Pnf))\n",
    "print(\"probability that no is actually 4 = \" + str(p))"
   ]
  },
  {
   "cell_type": "code",
   "execution_count": null,
   "metadata": {
    "collapsed": true
   },
   "outputs": [],
   "source": []
  }
 ],
 "metadata": {
  "kernelspec": {
   "display_name": "Python 3",
   "language": "python",
   "name": "python3"
  },
  "language_info": {
   "codemirror_mode": {
    "name": "ipython",
    "version": 3
   },
   "file_extension": ".py",
   "mimetype": "text/x-python",
   "name": "python",
   "nbconvert_exporter": "python",
   "pygments_lexer": "ipython3",
   "version": "3.6.3"
  }
 },
 "nbformat": 4,
 "nbformat_minor": 2
}
