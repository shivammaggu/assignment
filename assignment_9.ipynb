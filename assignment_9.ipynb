{
  "nbformat": 4,
  "nbformat_minor": 0,
  "metadata": {
    "colab": {
      "name": "assignment_9.ipynb",
      "version": "0.3.2",
      "views": {},
      "default_view": {},
      "provenance": [],
      "collapsed_sections": []
    },
    "kernelspec": {
      "name": "python3",
      "display_name": "Python 3"
    },
    "accelerator": "GPU"
  },
  "cells": [
    {
      "metadata": {
        "id": "n1Bw9y0GKmHX",
        "colab_type": "code",
        "colab": {
          "autoexec": {
            "startup": false,
            "wait_interval": 0
          }
        }
      },
      "cell_type": "code",
      "source": [
        "#Question 1\n",
        "#importing libraries\n",
        "import pandas as pd\n",
        "import numpy as np\n",
        "import seaborn as sns\n",
        "import matplotlib.pyplot as plt\n",
        "%matplotlib inline\n",
        "import re\n",
        "from sklearn.linear_model import LogisticRegression\n",
        "from sklearn.model_selection import train_test_split"
      ],
      "execution_count": 0,
      "outputs": []
    },
    {
      "metadata": {
        "id": "q-09HlGewKxW",
        "colab_type": "code",
        "colab": {
          "autoexec": {
            "startup": false,
            "wait_interval": 0
          }
        }
      },
      "cell_type": "code",
      "source": [
        "url = 'https://raw.githubusercontent.com/Shreyas3108/Titanic-EDA-and-Survival-prediction/master/train.csv'\n",
        "train = pd.read_csv(url)\n",
        "url2 = 'https://raw.githubusercontent.com/Shreyas3108/Titanic-EDA-and-Survival-prediction/master/test.csv'\n",
        "test = pd.read_csv(url2)"
      ],
      "execution_count": 0,
      "outputs": []
    },
    {
      "metadata": {
        "id": "kEOa2Yumxcqc",
        "colab_type": "code",
        "colab": {
          "autoexec": {
            "startup": false,
            "wait_interval": 0
          }
        }
      },
      "cell_type": "code",
      "source": [
        "df = pd.concat([train,test] , ignore_index = True)"
      ],
      "execution_count": 0,
      "outputs": []
    },
    {
      "metadata": {
        "id": "vOQcwVs1xrwk",
        "colab_type": "code",
        "colab": {
          "autoexec": {
            "startup": false,
            "wait_interval": 0
          },
          "base_uri": "https://localhost:8080/",
          "height": 195
        },
        "outputId": "69d7f9ad-a12f-4aa6-ac31-6f6c3f1485fd",
        "executionInfo": {
          "status": "ok",
          "timestamp": 1529374758586,
          "user_tz": -330,
          "elapsed": 678,
          "user": {
            "displayName": "Shivam Maggu",
            "photoUrl": "//lh4.googleusercontent.com/-V6fh5FfvVss/AAAAAAAAAAI/AAAAAAAAAx8/6DlPYMNrb-Y/s50-c-k-no/photo.jpg",
            "userId": "101497899883099583625"
          }
        }
      },
      "cell_type": "code",
      "source": [
        "df.head()"
      ],
      "execution_count": 36,
      "outputs": [
        {
          "output_type": "execute_result",
          "data": {
            "text/html": [
              "<div>\n",
              "<style scoped>\n",
              "    .dataframe tbody tr th:only-of-type {\n",
              "        vertical-align: middle;\n",
              "    }\n",
              "\n",
              "    .dataframe tbody tr th {\n",
              "        vertical-align: top;\n",
              "    }\n",
              "\n",
              "    .dataframe thead th {\n",
              "        text-align: right;\n",
              "    }\n",
              "</style>\n",
              "<table border=\"1\" class=\"dataframe\">\n",
              "  <thead>\n",
              "    <tr style=\"text-align: right;\">\n",
              "      <th></th>\n",
              "      <th>Age</th>\n",
              "      <th>Cabin</th>\n",
              "      <th>Embarked</th>\n",
              "      <th>Fare</th>\n",
              "      <th>Name</th>\n",
              "      <th>Parch</th>\n",
              "      <th>PassengerId</th>\n",
              "      <th>Pclass</th>\n",
              "      <th>Sex</th>\n",
              "      <th>SibSp</th>\n",
              "      <th>Survived</th>\n",
              "      <th>Ticket</th>\n",
              "    </tr>\n",
              "  </thead>\n",
              "  <tbody>\n",
              "    <tr>\n",
              "      <th>0</th>\n",
              "      <td>22.0</td>\n",
              "      <td>NaN</td>\n",
              "      <td>S</td>\n",
              "      <td>7.2500</td>\n",
              "      <td>Braund, Mr. Owen Harris</td>\n",
              "      <td>0</td>\n",
              "      <td>1</td>\n",
              "      <td>3</td>\n",
              "      <td>male</td>\n",
              "      <td>1</td>\n",
              "      <td>0.0</td>\n",
              "      <td>A/5 21171</td>\n",
              "    </tr>\n",
              "    <tr>\n",
              "      <th>1</th>\n",
              "      <td>38.0</td>\n",
              "      <td>C85</td>\n",
              "      <td>C</td>\n",
              "      <td>71.2833</td>\n",
              "      <td>Cumings, Mrs. John Bradley (Florence Briggs Th...</td>\n",
              "      <td>0</td>\n",
              "      <td>2</td>\n",
              "      <td>1</td>\n",
              "      <td>female</td>\n",
              "      <td>1</td>\n",
              "      <td>1.0</td>\n",
              "      <td>PC 17599</td>\n",
              "    </tr>\n",
              "    <tr>\n",
              "      <th>2</th>\n",
              "      <td>26.0</td>\n",
              "      <td>NaN</td>\n",
              "      <td>S</td>\n",
              "      <td>7.9250</td>\n",
              "      <td>Heikkinen, Miss. Laina</td>\n",
              "      <td>0</td>\n",
              "      <td>3</td>\n",
              "      <td>3</td>\n",
              "      <td>female</td>\n",
              "      <td>0</td>\n",
              "      <td>1.0</td>\n",
              "      <td>STON/O2. 3101282</td>\n",
              "    </tr>\n",
              "    <tr>\n",
              "      <th>3</th>\n",
              "      <td>35.0</td>\n",
              "      <td>C123</td>\n",
              "      <td>S</td>\n",
              "      <td>53.1000</td>\n",
              "      <td>Futrelle, Mrs. Jacques Heath (Lily May Peel)</td>\n",
              "      <td>0</td>\n",
              "      <td>4</td>\n",
              "      <td>1</td>\n",
              "      <td>female</td>\n",
              "      <td>1</td>\n",
              "      <td>1.0</td>\n",
              "      <td>113803</td>\n",
              "    </tr>\n",
              "    <tr>\n",
              "      <th>4</th>\n",
              "      <td>35.0</td>\n",
              "      <td>NaN</td>\n",
              "      <td>S</td>\n",
              "      <td>8.0500</td>\n",
              "      <td>Allen, Mr. William Henry</td>\n",
              "      <td>0</td>\n",
              "      <td>5</td>\n",
              "      <td>3</td>\n",
              "      <td>male</td>\n",
              "      <td>0</td>\n",
              "      <td>0.0</td>\n",
              "      <td>373450</td>\n",
              "    </tr>\n",
              "  </tbody>\n",
              "</table>\n",
              "</div>"
            ],
            "text/plain": [
              "    Age Cabin Embarked     Fare  \\\n",
              "0  22.0   NaN        S   7.2500   \n",
              "1  38.0   C85        C  71.2833   \n",
              "2  26.0   NaN        S   7.9250   \n",
              "3  35.0  C123        S  53.1000   \n",
              "4  35.0   NaN        S   8.0500   \n",
              "\n",
              "                                                Name  Parch  PassengerId  \\\n",
              "0                            Braund, Mr. Owen Harris      0            1   \n",
              "1  Cumings, Mrs. John Bradley (Florence Briggs Th...      0            2   \n",
              "2                             Heikkinen, Miss. Laina      0            3   \n",
              "3       Futrelle, Mrs. Jacques Heath (Lily May Peel)      0            4   \n",
              "4                           Allen, Mr. William Henry      0            5   \n",
              "\n",
              "   Pclass     Sex  SibSp  Survived            Ticket  \n",
              "0       3    male      1       0.0         A/5 21171  \n",
              "1       1  female      1       1.0          PC 17599  \n",
              "2       3  female      0       1.0  STON/O2. 3101282  \n",
              "3       1  female      1       1.0            113803  \n",
              "4       3    male      0       0.0            373450  "
            ]
          },
          "metadata": {
            "tags": []
          },
          "execution_count": 36
        }
      ]
    },
    {
      "metadata": {
        "id": "edCfhtASx2N9",
        "colab_type": "code",
        "colab": {
          "autoexec": {
            "startup": false,
            "wait_interval": 0
          },
          "base_uri": "https://localhost:8080/",
          "height": 195
        },
        "outputId": "b0c262fe-aaac-4aed-e3aa-2bae46b04656",
        "executionInfo": {
          "status": "ok",
          "timestamp": 1529374759979,
          "user_tz": -330,
          "elapsed": 699,
          "user": {
            "displayName": "Shivam Maggu",
            "photoUrl": "//lh4.googleusercontent.com/-V6fh5FfvVss/AAAAAAAAAAI/AAAAAAAAAx8/6DlPYMNrb-Y/s50-c-k-no/photo.jpg",
            "userId": "101497899883099583625"
          }
        }
      },
      "cell_type": "code",
      "source": [
        "df.tail()"
      ],
      "execution_count": 37,
      "outputs": [
        {
          "output_type": "execute_result",
          "data": {
            "text/html": [
              "<div>\n",
              "<style scoped>\n",
              "    .dataframe tbody tr th:only-of-type {\n",
              "        vertical-align: middle;\n",
              "    }\n",
              "\n",
              "    .dataframe tbody tr th {\n",
              "        vertical-align: top;\n",
              "    }\n",
              "\n",
              "    .dataframe thead th {\n",
              "        text-align: right;\n",
              "    }\n",
              "</style>\n",
              "<table border=\"1\" class=\"dataframe\">\n",
              "  <thead>\n",
              "    <tr style=\"text-align: right;\">\n",
              "      <th></th>\n",
              "      <th>Age</th>\n",
              "      <th>Cabin</th>\n",
              "      <th>Embarked</th>\n",
              "      <th>Fare</th>\n",
              "      <th>Name</th>\n",
              "      <th>Parch</th>\n",
              "      <th>PassengerId</th>\n",
              "      <th>Pclass</th>\n",
              "      <th>Sex</th>\n",
              "      <th>SibSp</th>\n",
              "      <th>Survived</th>\n",
              "      <th>Ticket</th>\n",
              "    </tr>\n",
              "  </thead>\n",
              "  <tbody>\n",
              "    <tr>\n",
              "      <th>1304</th>\n",
              "      <td>NaN</td>\n",
              "      <td>NaN</td>\n",
              "      <td>S</td>\n",
              "      <td>8.0500</td>\n",
              "      <td>Spector, Mr. Woolf</td>\n",
              "      <td>0</td>\n",
              "      <td>1305</td>\n",
              "      <td>3</td>\n",
              "      <td>male</td>\n",
              "      <td>0</td>\n",
              "      <td>NaN</td>\n",
              "      <td>A.5. 3236</td>\n",
              "    </tr>\n",
              "    <tr>\n",
              "      <th>1305</th>\n",
              "      <td>39.0</td>\n",
              "      <td>C105</td>\n",
              "      <td>C</td>\n",
              "      <td>108.9000</td>\n",
              "      <td>Oliva y Ocana, Dona. Fermina</td>\n",
              "      <td>0</td>\n",
              "      <td>1306</td>\n",
              "      <td>1</td>\n",
              "      <td>female</td>\n",
              "      <td>0</td>\n",
              "      <td>NaN</td>\n",
              "      <td>PC 17758</td>\n",
              "    </tr>\n",
              "    <tr>\n",
              "      <th>1306</th>\n",
              "      <td>38.5</td>\n",
              "      <td>NaN</td>\n",
              "      <td>S</td>\n",
              "      <td>7.2500</td>\n",
              "      <td>Saether, Mr. Simon Sivertsen</td>\n",
              "      <td>0</td>\n",
              "      <td>1307</td>\n",
              "      <td>3</td>\n",
              "      <td>male</td>\n",
              "      <td>0</td>\n",
              "      <td>NaN</td>\n",
              "      <td>SOTON/O.Q. 3101262</td>\n",
              "    </tr>\n",
              "    <tr>\n",
              "      <th>1307</th>\n",
              "      <td>NaN</td>\n",
              "      <td>NaN</td>\n",
              "      <td>S</td>\n",
              "      <td>8.0500</td>\n",
              "      <td>Ware, Mr. Frederick</td>\n",
              "      <td>0</td>\n",
              "      <td>1308</td>\n",
              "      <td>3</td>\n",
              "      <td>male</td>\n",
              "      <td>0</td>\n",
              "      <td>NaN</td>\n",
              "      <td>359309</td>\n",
              "    </tr>\n",
              "    <tr>\n",
              "      <th>1308</th>\n",
              "      <td>NaN</td>\n",
              "      <td>NaN</td>\n",
              "      <td>C</td>\n",
              "      <td>22.3583</td>\n",
              "      <td>Peter, Master. Michael J</td>\n",
              "      <td>1</td>\n",
              "      <td>1309</td>\n",
              "      <td>3</td>\n",
              "      <td>male</td>\n",
              "      <td>1</td>\n",
              "      <td>NaN</td>\n",
              "      <td>2668</td>\n",
              "    </tr>\n",
              "  </tbody>\n",
              "</table>\n",
              "</div>"
            ],
            "text/plain": [
              "       Age Cabin Embarked      Fare                          Name  Parch  \\\n",
              "1304   NaN   NaN        S    8.0500            Spector, Mr. Woolf      0   \n",
              "1305  39.0  C105        C  108.9000  Oliva y Ocana, Dona. Fermina      0   \n",
              "1306  38.5   NaN        S    7.2500  Saether, Mr. Simon Sivertsen      0   \n",
              "1307   NaN   NaN        S    8.0500           Ware, Mr. Frederick      0   \n",
              "1308   NaN   NaN        C   22.3583      Peter, Master. Michael J      1   \n",
              "\n",
              "      PassengerId  Pclass     Sex  SibSp  Survived              Ticket  \n",
              "1304         1305       3    male      0       NaN           A.5. 3236  \n",
              "1305         1306       1  female      0       NaN            PC 17758  \n",
              "1306         1307       3    male      0       NaN  SOTON/O.Q. 3101262  \n",
              "1307         1308       3    male      0       NaN              359309  \n",
              "1308         1309       3    male      1       NaN                2668  "
            ]
          },
          "metadata": {
            "tags": []
          },
          "execution_count": 37
        }
      ]
    },
    {
      "metadata": {
        "id": "V0UYGJJdbSrl",
        "colab_type": "code",
        "colab": {
          "autoexec": {
            "startup": false,
            "wait_interval": 0
          },
          "base_uri": "https://localhost:8080/",
          "height": 302
        },
        "outputId": "550f1bfc-59d7-4cfa-a926-e89a1c68d457",
        "executionInfo": {
          "status": "ok",
          "timestamp": 1529374762029,
          "user_tz": -330,
          "elapsed": 739,
          "user": {
            "displayName": "Shivam Maggu",
            "photoUrl": "//lh4.googleusercontent.com/-V6fh5FfvVss/AAAAAAAAAAI/AAAAAAAAAx8/6DlPYMNrb-Y/s50-c-k-no/photo.jpg",
            "userId": "101497899883099583625"
          }
        }
      },
      "cell_type": "code",
      "source": [
        "df.info()"
      ],
      "execution_count": 38,
      "outputs": [
        {
          "output_type": "stream",
          "text": [
            "<class 'pandas.core.frame.DataFrame'>\n",
            "RangeIndex: 1309 entries, 0 to 1308\n",
            "Data columns (total 12 columns):\n",
            "Age            1046 non-null float64\n",
            "Cabin          295 non-null object\n",
            "Embarked       1307 non-null object\n",
            "Fare           1308 non-null float64\n",
            "Name           1309 non-null object\n",
            "Parch          1309 non-null int64\n",
            "PassengerId    1309 non-null int64\n",
            "Pclass         1309 non-null int64\n",
            "Sex            1309 non-null object\n",
            "SibSp          1309 non-null int64\n",
            "Survived       891 non-null float64\n",
            "Ticket         1309 non-null object\n",
            "dtypes: float64(3), int64(4), object(5)\n",
            "memory usage: 122.8+ KB\n"
          ],
          "name": "stdout"
        }
      ]
    },
    {
      "metadata": {
        "id": "Pq8Sva_6yLoa",
        "colab_type": "code",
        "colab": {
          "autoexec": {
            "startup": false,
            "wait_interval": 0
          },
          "base_uri": "https://localhost:8080/",
          "height": 67
        },
        "outputId": "91727725-fcf6-4476-e2c2-8a5c5a59e176",
        "executionInfo": {
          "status": "ok",
          "timestamp": 1529374764314,
          "user_tz": -330,
          "elapsed": 752,
          "user": {
            "displayName": "Shivam Maggu",
            "photoUrl": "//lh4.googleusercontent.com/-V6fh5FfvVss/AAAAAAAAAAI/AAAAAAAAAx8/6DlPYMNrb-Y/s50-c-k-no/photo.jpg",
            "userId": "101497899883099583625"
          }
        }
      },
      "cell_type": "code",
      "source": [
        "#Question 2\n",
        "df['Survived'].value_counts()"
      ],
      "execution_count": 39,
      "outputs": [
        {
          "output_type": "execute_result",
          "data": {
            "text/plain": [
              "0.0    549\n",
              "1.0    342\n",
              "Name: Survived, dtype: int64"
            ]
          },
          "metadata": {
            "tags": []
          },
          "execution_count": 39
        }
      ]
    },
    {
      "metadata": {
        "id": "bGuw6J7OyaI4",
        "colab_type": "code",
        "colab": {
          "autoexec": {
            "startup": false,
            "wait_interval": 0
          },
          "base_uri": "https://localhost:8080/",
          "height": 235
        },
        "outputId": "c039666c-06aa-4c53-dfc9-5cbf35c5bd90",
        "executionInfo": {
          "status": "ok",
          "timestamp": 1529374773473,
          "user_tz": -330,
          "elapsed": 825,
          "user": {
            "displayName": "Shivam Maggu",
            "photoUrl": "//lh4.googleusercontent.com/-V6fh5FfvVss/AAAAAAAAAAI/AAAAAAAAAx8/6DlPYMNrb-Y/s50-c-k-no/photo.jpg",
            "userId": "101497899883099583625"
          }
        }
      },
      "cell_type": "code",
      "source": [
        "\n",
        "df.isnull().sum()"
      ],
      "execution_count": 40,
      "outputs": [
        {
          "output_type": "execute_result",
          "data": {
            "text/plain": [
              "Age             263\n",
              "Cabin          1014\n",
              "Embarked          2\n",
              "Fare              1\n",
              "Name              0\n",
              "Parch             0\n",
              "PassengerId       0\n",
              "Pclass            0\n",
              "Sex               0\n",
              "SibSp             0\n",
              "Survived        418\n",
              "Ticket            0\n",
              "dtype: int64"
            ]
          },
          "metadata": {
            "tags": []
          },
          "execution_count": 40
        }
      ]
    },
    {
      "metadata": {
        "id": "bd4DNkubyl9F",
        "colab_type": "code",
        "colab": {
          "autoexec": {
            "startup": false,
            "wait_interval": 0
          }
        }
      },
      "cell_type": "code",
      "source": [
        "df = df.dropna(subset=['Survived'])"
      ],
      "execution_count": 0,
      "outputs": []
    },
    {
      "metadata": {
        "id": "pWFVI0day7TJ",
        "colab_type": "code",
        "colab": {
          "autoexec": {
            "startup": false,
            "wait_interval": 0
          },
          "base_uri": "https://localhost:8080/",
          "height": 235
        },
        "outputId": "3ade63a9-549f-40e9-e95a-0c5f6f4c8f02",
        "executionInfo": {
          "status": "ok",
          "timestamp": 1529374777573,
          "user_tz": -330,
          "elapsed": 778,
          "user": {
            "displayName": "Shivam Maggu",
            "photoUrl": "//lh4.googleusercontent.com/-V6fh5FfvVss/AAAAAAAAAAI/AAAAAAAAAx8/6DlPYMNrb-Y/s50-c-k-no/photo.jpg",
            "userId": "101497899883099583625"
          }
        }
      },
      "cell_type": "code",
      "source": [
        "df.isnull().sum()"
      ],
      "execution_count": 42,
      "outputs": [
        {
          "output_type": "execute_result",
          "data": {
            "text/plain": [
              "Age            177\n",
              "Cabin          687\n",
              "Embarked         2\n",
              "Fare             0\n",
              "Name             0\n",
              "Parch            0\n",
              "PassengerId      0\n",
              "Pclass           0\n",
              "Sex              0\n",
              "SibSp            0\n",
              "Survived         0\n",
              "Ticket           0\n",
              "dtype: int64"
            ]
          },
          "metadata": {
            "tags": []
          },
          "execution_count": 42
        }
      ]
    },
    {
      "metadata": {
        "id": "le_gZwCEc38q",
        "colab_type": "code",
        "colab": {
          "autoexec": {
            "startup": false,
            "wait_interval": 0
          },
          "base_uri": "https://localhost:8080/",
          "height": 67
        },
        "outputId": "d8790f5c-f81d-4318-e385-ed5c16f937aa",
        "executionInfo": {
          "status": "ok",
          "timestamp": 1529374813649,
          "user_tz": -330,
          "elapsed": 1588,
          "user": {
            "displayName": "Shivam Maggu",
            "photoUrl": "//lh4.googleusercontent.com/-V6fh5FfvVss/AAAAAAAAAAI/AAAAAAAAAx8/6DlPYMNrb-Y/s50-c-k-no/photo.jpg",
            "userId": "101497899883099583625"
          }
        }
      },
      "cell_type": "code",
      "source": [
        "#Question 3\n",
        "i=0\n",
        "df['Has_Cabin']=\"\"\n",
        "for x in df['Cabin'].isnull():\n",
        "  if x==True:\n",
        "    df.loc[i,'Has_Cabin']=0\n",
        "    #print(df.loc[i,'Has_Cabin'])\n",
        "  else:\n",
        "    df.loc[i,'Has_Cabin']=1\n",
        "    #print(df.loc[i,'Has_Cabin'])\n",
        "  i=i+1\n",
        "\n",
        "df['Has_Cabin'].value_counts()\n",
        "    "
      ],
      "execution_count": 43,
      "outputs": [
        {
          "output_type": "execute_result",
          "data": {
            "text/plain": [
              "0    687\n",
              "1    204\n",
              "Name: Has_Cabin, dtype: int64"
            ]
          },
          "metadata": {
            "tags": []
          },
          "execution_count": 43
        }
      ]
    },
    {
      "metadata": {
        "id": "pR38Nd9WEpkb",
        "colab_type": "code",
        "colab": {
          "autoexec": {
            "startup": false,
            "wait_interval": 0
          },
          "base_uri": "https://localhost:8080/",
          "height": 319
        },
        "outputId": "074c7242-85e0-45ac-857f-26f01b01cae1",
        "executionInfo": {
          "status": "ok",
          "timestamp": 1529374832646,
          "user_tz": -330,
          "elapsed": 788,
          "user": {
            "displayName": "Shivam Maggu",
            "photoUrl": "//lh4.googleusercontent.com/-V6fh5FfvVss/AAAAAAAAAAI/AAAAAAAAAx8/6DlPYMNrb-Y/s50-c-k-no/photo.jpg",
            "userId": "101497899883099583625"
          }
        }
      },
      "cell_type": "code",
      "source": [
        "#Question 4\n",
        "df['Title']=df['Name'].apply(lambda x: re.search('([A-Z][a-z]+)\\.', x))\n",
        "df['Title']=df['Title'].apply(lambda x: x.group())\n",
        "print(df['Title'].value_counts())"
      ],
      "execution_count": 44,
      "outputs": [
        {
          "output_type": "stream",
          "text": [
            "Mr.          517\n",
            "Miss.        182\n",
            "Mrs.         125\n",
            "Master.       40\n",
            "Dr.            7\n",
            "Rev.           6\n",
            "Mlle.          2\n",
            "Major.         2\n",
            "Col.           2\n",
            "Countess.      1\n",
            "Don.           1\n",
            "Jonkheer.      1\n",
            "Ms.            1\n",
            "Mme.           1\n",
            "Capt.          1\n",
            "Lady.          1\n",
            "Sir.           1\n",
            "Name: Title, dtype: int64\n"
          ],
          "name": "stdout"
        }
      ]
    },
    {
      "metadata": {
        "id": "m737M4nVzGCx",
        "colab_type": "code",
        "colab": {
          "autoexec": {
            "startup": false,
            "wait_interval": 0
          }
        }
      },
      "cell_type": "code",
      "source": [
        "df['Title'] = df['Title'].replace(['Don.', 'Dona.', 'Rev.', 'Dr.', 'Major.', 'Lady.', 'Sir.', 'Col.', 'Capt.', 'Countess.', 'Jonkheer.','Mme.','Mlle.','Ms.'],'Special')"
      ],
      "execution_count": 0,
      "outputs": []
    },
    {
      "metadata": {
        "id": "NawC8MRuzgNU",
        "colab_type": "code",
        "colab": {
          "autoexec": {
            "startup": false,
            "wait_interval": 0
          },
          "base_uri": "https://localhost:8080/",
          "height": 118
        },
        "outputId": "39a18a7e-a782-4275-d9f5-89e1d10731c6",
        "executionInfo": {
          "status": "ok",
          "timestamp": 1529374839390,
          "user_tz": -330,
          "elapsed": 989,
          "user": {
            "displayName": "Shivam Maggu",
            "photoUrl": "//lh4.googleusercontent.com/-V6fh5FfvVss/AAAAAAAAAAI/AAAAAAAAAx8/6DlPYMNrb-Y/s50-c-k-no/photo.jpg",
            "userId": "101497899883099583625"
          }
        }
      },
      "cell_type": "code",
      "source": [
        "\n",
        "df['Title'].value_counts()"
      ],
      "execution_count": 46,
      "outputs": [
        {
          "output_type": "execute_result",
          "data": {
            "text/plain": [
              "Mr.        517\n",
              "Miss.      182\n",
              "Mrs.       125\n",
              "Master.     40\n",
              "Special     27\n",
              "Name: Title, dtype: int64"
            ]
          },
          "metadata": {
            "tags": []
          },
          "execution_count": 46
        }
      ]
    },
    {
      "metadata": {
        "id": "ksx2opNVzjSC",
        "colab_type": "code",
        "colab": {
          "autoexec": {
            "startup": false,
            "wait_interval": 0
          }
        }
      },
      "cell_type": "code",
      "source": [
        "#Question 5\n",
        "df['Age']=df['Age'].fillna(df['Age'].median())"
      ],
      "execution_count": 0,
      "outputs": []
    },
    {
      "metadata": {
        "id": "WqZRhsH4zxAS",
        "colab_type": "code",
        "colab": {
          "autoexec": {
            "startup": false,
            "wait_interval": 0
          },
          "base_uri": "https://localhost:8080/",
          "height": 84
        },
        "outputId": "e6011d57-379d-4edb-8416-ad66281dbb74",
        "executionInfo": {
          "status": "ok",
          "timestamp": 1529374865681,
          "user_tz": -330,
          "elapsed": 781,
          "user": {
            "displayName": "Shivam Maggu",
            "photoUrl": "//lh4.googleusercontent.com/-V6fh5FfvVss/AAAAAAAAAAI/AAAAAAAAAx8/6DlPYMNrb-Y/s50-c-k-no/photo.jpg",
            "userId": "101497899883099583625"
          }
        }
      },
      "cell_type": "code",
      "source": [
        "df['Embarked'].value_counts()"
      ],
      "execution_count": 48,
      "outputs": [
        {
          "output_type": "execute_result",
          "data": {
            "text/plain": [
              "S    644\n",
              "C    168\n",
              "Q     77\n",
              "Name: Embarked, dtype: int64"
            ]
          },
          "metadata": {
            "tags": []
          },
          "execution_count": 48
        }
      ]
    },
    {
      "metadata": {
        "id": "4WaMLctzz1ca",
        "colab_type": "code",
        "colab": {
          "autoexec": {
            "startup": false,
            "wait_interval": 0
          }
        }
      },
      "cell_type": "code",
      "source": [
        "df['Embarked'] = df['Embarked'].fillna('S')"
      ],
      "execution_count": 0,
      "outputs": []
    },
    {
      "metadata": {
        "id": "IqXxkakT0HyM",
        "colab_type": "code",
        "colab": {
          "autoexec": {
            "startup": false,
            "wait_interval": 0
          }
        }
      },
      "cell_type": "code",
      "source": [
        "#Question 6\n",
        "df['Categorical_age'] = pd.qcut(df.Age, q=4, labels=False )\n",
        "df['Categorical_fare']= pd.qcut(df.Fare, q=4, labels=False)"
      ],
      "execution_count": 0,
      "outputs": []
    },
    {
      "metadata": {
        "id": "3cH4Epbt0Ovl",
        "colab_type": "code",
        "colab": {
          "autoexec": {
            "startup": false,
            "wait_interval": 0
          }
        }
      },
      "cell_type": "code",
      "source": [
        "#Question 7\n",
        "df.drop(['Cabin','Name','PassengerId','Ticket','Age','Fare','SibSp','Parch'],axis=1,inplace=True)"
      ],
      "execution_count": 0,
      "outputs": []
    },
    {
      "metadata": {
        "id": "Dwn7UjHe0Rrz",
        "colab_type": "code",
        "colab": {
          "autoexec": {
            "startup": false,
            "wait_interval": 0
          },
          "base_uri": "https://localhost:8080/",
          "height": 215
        },
        "outputId": "59db02dd-460e-4981-b93e-6d61538b95e9",
        "executionInfo": {
          "status": "ok",
          "timestamp": 1529374916690,
          "user_tz": -330,
          "elapsed": 795,
          "user": {
            "displayName": "Shivam Maggu",
            "photoUrl": "//lh4.googleusercontent.com/-V6fh5FfvVss/AAAAAAAAAAI/AAAAAAAAAx8/6DlPYMNrb-Y/s50-c-k-no/photo.jpg",
            "userId": "101497899883099583625"
          }
        }
      },
      "cell_type": "code",
      "source": [
        "#Question 8\n",
        "#One-Hot Encoding\n",
        "\n",
        "df = pd.get_dummies(df)\n",
        "df.head()"
      ],
      "execution_count": 52,
      "outputs": [
        {
          "output_type": "execute_result",
          "data": {
            "text/html": [
              "<div>\n",
              "<style scoped>\n",
              "    .dataframe tbody tr th:only-of-type {\n",
              "        vertical-align: middle;\n",
              "    }\n",
              "\n",
              "    .dataframe tbody tr th {\n",
              "        vertical-align: top;\n",
              "    }\n",
              "\n",
              "    .dataframe thead th {\n",
              "        text-align: right;\n",
              "    }\n",
              "</style>\n",
              "<table border=\"1\" class=\"dataframe\">\n",
              "  <thead>\n",
              "    <tr style=\"text-align: right;\">\n",
              "      <th></th>\n",
              "      <th>Pclass</th>\n",
              "      <th>Survived</th>\n",
              "      <th>Has_Cabin</th>\n",
              "      <th>Categorical_age</th>\n",
              "      <th>Categorical_fare</th>\n",
              "      <th>Embarked_C</th>\n",
              "      <th>Embarked_Q</th>\n",
              "      <th>Embarked_S</th>\n",
              "      <th>Sex_female</th>\n",
              "      <th>Sex_male</th>\n",
              "      <th>Title_Master.</th>\n",
              "      <th>Title_Miss.</th>\n",
              "      <th>Title_Mr.</th>\n",
              "      <th>Title_Mrs.</th>\n",
              "      <th>Title_Special</th>\n",
              "    </tr>\n",
              "  </thead>\n",
              "  <tbody>\n",
              "    <tr>\n",
              "      <th>0</th>\n",
              "      <td>3</td>\n",
              "      <td>0.0</td>\n",
              "      <td>0</td>\n",
              "      <td>0</td>\n",
              "      <td>0</td>\n",
              "      <td>0</td>\n",
              "      <td>0</td>\n",
              "      <td>1</td>\n",
              "      <td>0</td>\n",
              "      <td>1</td>\n",
              "      <td>0</td>\n",
              "      <td>0</td>\n",
              "      <td>1</td>\n",
              "      <td>0</td>\n",
              "      <td>0</td>\n",
              "    </tr>\n",
              "    <tr>\n",
              "      <th>1</th>\n",
              "      <td>1</td>\n",
              "      <td>1.0</td>\n",
              "      <td>1</td>\n",
              "      <td>3</td>\n",
              "      <td>3</td>\n",
              "      <td>1</td>\n",
              "      <td>0</td>\n",
              "      <td>0</td>\n",
              "      <td>1</td>\n",
              "      <td>0</td>\n",
              "      <td>0</td>\n",
              "      <td>0</td>\n",
              "      <td>0</td>\n",
              "      <td>1</td>\n",
              "      <td>0</td>\n",
              "    </tr>\n",
              "    <tr>\n",
              "      <th>2</th>\n",
              "      <td>3</td>\n",
              "      <td>1.0</td>\n",
              "      <td>0</td>\n",
              "      <td>1</td>\n",
              "      <td>1</td>\n",
              "      <td>0</td>\n",
              "      <td>0</td>\n",
              "      <td>1</td>\n",
              "      <td>1</td>\n",
              "      <td>0</td>\n",
              "      <td>0</td>\n",
              "      <td>1</td>\n",
              "      <td>0</td>\n",
              "      <td>0</td>\n",
              "      <td>0</td>\n",
              "    </tr>\n",
              "    <tr>\n",
              "      <th>3</th>\n",
              "      <td>1</td>\n",
              "      <td>1.0</td>\n",
              "      <td>1</td>\n",
              "      <td>2</td>\n",
              "      <td>3</td>\n",
              "      <td>0</td>\n",
              "      <td>0</td>\n",
              "      <td>1</td>\n",
              "      <td>1</td>\n",
              "      <td>0</td>\n",
              "      <td>0</td>\n",
              "      <td>0</td>\n",
              "      <td>0</td>\n",
              "      <td>1</td>\n",
              "      <td>0</td>\n",
              "    </tr>\n",
              "    <tr>\n",
              "      <th>4</th>\n",
              "      <td>3</td>\n",
              "      <td>0.0</td>\n",
              "      <td>0</td>\n",
              "      <td>2</td>\n",
              "      <td>1</td>\n",
              "      <td>0</td>\n",
              "      <td>0</td>\n",
              "      <td>1</td>\n",
              "      <td>0</td>\n",
              "      <td>1</td>\n",
              "      <td>0</td>\n",
              "      <td>0</td>\n",
              "      <td>1</td>\n",
              "      <td>0</td>\n",
              "      <td>0</td>\n",
              "    </tr>\n",
              "  </tbody>\n",
              "</table>\n",
              "</div>"
            ],
            "text/plain": [
              "   Pclass  Survived  Has_Cabin  Categorical_age  Categorical_fare  Embarked_C  \\\n",
              "0       3       0.0          0                0                 0           0   \n",
              "1       1       1.0          1                3                 3           1   \n",
              "2       3       1.0          0                1                 1           0   \n",
              "3       1       1.0          1                2                 3           0   \n",
              "4       3       0.0          0                2                 1           0   \n",
              "\n",
              "   Embarked_Q  Embarked_S  Sex_female  Sex_male  Title_Master.  Title_Miss.  \\\n",
              "0           0           1           0         1              0            0   \n",
              "1           0           0           1         0              0            0   \n",
              "2           0           1           1         0              0            1   \n",
              "3           0           1           1         0              0            0   \n",
              "4           0           1           0         1              0            0   \n",
              "\n",
              "   Title_Mr.  Title_Mrs.  Title_Special  \n",
              "0          1           0              0  \n",
              "1          0           1              0  \n",
              "2          0           0              0  \n",
              "3          0           1              0  \n",
              "4          1           0              0  "
            ]
          },
          "metadata": {
            "tags": []
          },
          "execution_count": 52
        }
      ]
    },
    {
      "metadata": {
        "id": "7M-7Yg7G0iGn",
        "colab_type": "code",
        "colab": {
          "autoexec": {
            "startup": false,
            "wait_interval": 0
          }
        }
      },
      "cell_type": "code",
      "source": [
        "#Question 9\n",
        "x = df.drop(['Survived'], axis = 1)\n",
        "y = df['Survived']"
      ],
      "execution_count": 0,
      "outputs": []
    },
    {
      "metadata": {
        "id": "-x_bb4R-0uZk",
        "colab_type": "code",
        "colab": {
          "autoexec": {
            "startup": false,
            "wait_interval": 0
          }
        }
      },
      "cell_type": "code",
      "source": [
        "from sklearn.model_selection import train_test_split\n",
        "x_train, x_test, y_train, y_test = train_test_split(x, y, test_size = 0.3)"
      ],
      "execution_count": 0,
      "outputs": []
    },
    {
      "metadata": {
        "id": "Muq61uIS0xtZ",
        "colab_type": "code",
        "colab": {
          "autoexec": {
            "startup": false,
            "wait_interval": 0
          }
        }
      },
      "cell_type": "code",
      "source": [
        "#Question 10\n",
        "model = LogisticRegression()"
      ],
      "execution_count": 0,
      "outputs": []
    },
    {
      "metadata": {
        "id": "FdQ71lzR01Mg",
        "colab_type": "code",
        "colab": {
          "autoexec": {
            "startup": false,
            "wait_interval": 0
          },
          "base_uri": "https://localhost:8080/",
          "height": 84
        },
        "outputId": "3a01a4e0-57bf-40b6-b7a6-aebb707a3961",
        "executionInfo": {
          "status": "ok",
          "timestamp": 1529374976022,
          "user_tz": -330,
          "elapsed": 858,
          "user": {
            "displayName": "Shivam Maggu",
            "photoUrl": "//lh4.googleusercontent.com/-V6fh5FfvVss/AAAAAAAAAAI/AAAAAAAAAx8/6DlPYMNrb-Y/s50-c-k-no/photo.jpg",
            "userId": "101497899883099583625"
          }
        }
      },
      "cell_type": "code",
      "source": [
        "model.fit(x_train, y_train)"
      ],
      "execution_count": 57,
      "outputs": [
        {
          "output_type": "execute_result",
          "data": {
            "text/plain": [
              "LogisticRegression(C=1.0, class_weight=None, dual=False, fit_intercept=True,\n",
              "          intercept_scaling=1, max_iter=100, multi_class='ovr', n_jobs=1,\n",
              "          penalty='l2', random_state=None, solver='liblinear', tol=0.0001,\n",
              "          verbose=0, warm_start=False)"
            ]
          },
          "metadata": {
            "tags": []
          },
          "execution_count": 57
        }
      ]
    },
    {
      "metadata": {
        "id": "0V--VE4l04Bg",
        "colab_type": "code",
        "colab": {
          "autoexec": {
            "startup": false,
            "wait_interval": 0
          }
        }
      },
      "cell_type": "code",
      "source": [
        "predict = model.predict(x_test)"
      ],
      "execution_count": 0,
      "outputs": []
    },
    {
      "metadata": {
        "id": "OOSW58t206qi",
        "colab_type": "code",
        "colab": {
          "autoexec": {
            "startup": false,
            "wait_interval": 0
          },
          "base_uri": "https://localhost:8080/",
          "height": 34
        },
        "outputId": "0dd2b789-15e0-41bf-e366-3dfb06cbcb56",
        "executionInfo": {
          "status": "ok",
          "timestamp": 1529374980213,
          "user_tz": -330,
          "elapsed": 818,
          "user": {
            "displayName": "Shivam Maggu",
            "photoUrl": "//lh4.googleusercontent.com/-V6fh5FfvVss/AAAAAAAAAAI/AAAAAAAAAx8/6DlPYMNrb-Y/s50-c-k-no/photo.jpg",
            "userId": "101497899883099583625"
          }
        }
      },
      "cell_type": "code",
      "source": [
        "#Question 11\n",
        "accuracy_score = model.score(x_test, y_test)\n",
        "print(\"The accuracy score is : {}\".format(accuracy_score))"
      ],
      "execution_count": 59,
      "outputs": [
        {
          "output_type": "stream",
          "text": [
            "The accuracy score is : 0.8022388059701493\n"
          ],
          "name": "stdout"
        }
      ]
    },
    {
      "metadata": {
        "id": "fZjFwl6h0_Ia",
        "colab_type": "code",
        "colab": {
          "autoexec": {
            "startup": false,
            "wait_interval": 0
          }
        }
      },
      "cell_type": "code",
      "source": [
        ""
      ],
      "execution_count": 0,
      "outputs": []
    }
  ]
}