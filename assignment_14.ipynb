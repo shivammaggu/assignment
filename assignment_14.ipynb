{
  "nbformat": 4,
  "nbformat_minor": 0,
  "metadata": {
    "colab": {
      "name": "assignment_14.ipynb",
      "version": "0.3.2",
      "views": {},
      "default_view": {},
      "provenance": []
    },
    "kernelspec": {
      "name": "python3",
      "display_name": "Python 3"
    }
  },
  "cells": [
    {
      "metadata": {
        "id": "RmTmfLe6WSjR",
        "colab_type": "code",
        "colab": {
          "autoexec": {
            "startup": false,
            "wait_interval": 0
          }
        }
      },
      "cell_type": "code",
      "source": [
        "#import libraries\n",
        "import numpy as np\n",
        "import pandas as pd \n",
        "import seaborn as sns \n",
        "import matplotlib.pyplot as plt\n",
        "%matplotlib inline\n",
        "from sklearn.datasets import load_digits\n",
        "from sklearn.preprocessing import StandardScaler\n",
        "from sklearn.decomposition import PCA\n",
        "from sklearn.model_selection import train_test_split\n",
        "from sklearn.linear_model import LogisticRegression\n",
        "from sklearn.metrics import accuracy_score , confusion_matrix , classification_report"
      ],
      "execution_count": 0,
      "outputs": []
    },
    {
      "metadata": {
        "id": "t8D37WuTXlEv",
        "colab_type": "code",
        "colab": {
          "autoexec": {
            "startup": false,
            "wait_interval": 0
          }
        }
      },
      "cell_type": "code",
      "source": [
        "#Question 1\n",
        "data , target = load_digits(n_class = 10 , return_X_y = True)"
      ],
      "execution_count": 0,
      "outputs": []
    },
    {
      "metadata": {
        "id": "tn-JOk_DZoFT",
        "colab_type": "code",
        "colab": {
          "autoexec": {
            "startup": false,
            "wait_interval": 0
          },
          "base_uri": "https://localhost:8080/",
          "height": 50
        },
        "outputId": "0a3d5b0c-3649-4c88-cd14-a4ed22203d6e",
        "executionInfo": {
          "status": "ok",
          "timestamp": 1529453812778,
          "user_tz": -330,
          "elapsed": 940,
          "user": {
            "displayName": "Shivam Maggu",
            "photoUrl": "//lh4.googleusercontent.com/-V6fh5FfvVss/AAAAAAAAAAI/AAAAAAAAAx8/6DlPYMNrb-Y/s50-c-k-no/photo.jpg",
            "userId": "101497899883099583625"
          }
        }
      },
      "cell_type": "code",
      "source": [
        "print(data.shape)\n",
        "print(target.shape)"
      ],
      "execution_count": 75,
      "outputs": [
        {
          "output_type": "stream",
          "text": [
            "(1797, 64)\n",
            "(1797,)\n"
          ],
          "name": "stdout"
        }
      ]
    },
    {
      "metadata": {
        "id": "amy8MIPcZusP",
        "colab_type": "code",
        "colab": {
          "autoexec": {
            "startup": false,
            "wait_interval": 0
          }
        }
      },
      "cell_type": "code",
      "source": [
        "x = pd.DataFrame(data)\n",
        "y = pd.DataFrame(target)"
      ],
      "execution_count": 0,
      "outputs": []
    },
    {
      "metadata": {
        "id": "EaxSQ9NLZ0kj",
        "colab_type": "code",
        "colab": {
          "autoexec": {
            "startup": false,
            "wait_interval": 0
          },
          "base_uri": "https://localhost:8080/",
          "height": 224
        },
        "outputId": "ec982986-40e7-4bff-f03f-b308676adec8",
        "executionInfo": {
          "status": "ok",
          "timestamp": 1529453816738,
          "user_tz": -330,
          "elapsed": 1245,
          "user": {
            "displayName": "Shivam Maggu",
            "photoUrl": "//lh4.googleusercontent.com/-V6fh5FfvVss/AAAAAAAAAAI/AAAAAAAAAx8/6DlPYMNrb-Y/s50-c-k-no/photo.jpg",
            "userId": "101497899883099583625"
          }
        }
      },
      "cell_type": "code",
      "source": [
        "x.head()"
      ],
      "execution_count": 77,
      "outputs": [
        {
          "output_type": "execute_result",
          "data": {
            "text/html": [
              "<div>\n",
              "<style scoped>\n",
              "    .dataframe tbody tr th:only-of-type {\n",
              "        vertical-align: middle;\n",
              "    }\n",
              "\n",
              "    .dataframe tbody tr th {\n",
              "        vertical-align: top;\n",
              "    }\n",
              "\n",
              "    .dataframe thead th {\n",
              "        text-align: right;\n",
              "    }\n",
              "</style>\n",
              "<table border=\"1\" class=\"dataframe\">\n",
              "  <thead>\n",
              "    <tr style=\"text-align: right;\">\n",
              "      <th></th>\n",
              "      <th>0</th>\n",
              "      <th>1</th>\n",
              "      <th>2</th>\n",
              "      <th>3</th>\n",
              "      <th>4</th>\n",
              "      <th>5</th>\n",
              "      <th>6</th>\n",
              "      <th>7</th>\n",
              "      <th>8</th>\n",
              "      <th>9</th>\n",
              "      <th>...</th>\n",
              "      <th>54</th>\n",
              "      <th>55</th>\n",
              "      <th>56</th>\n",
              "      <th>57</th>\n",
              "      <th>58</th>\n",
              "      <th>59</th>\n",
              "      <th>60</th>\n",
              "      <th>61</th>\n",
              "      <th>62</th>\n",
              "      <th>63</th>\n",
              "    </tr>\n",
              "  </thead>\n",
              "  <tbody>\n",
              "    <tr>\n",
              "      <th>0</th>\n",
              "      <td>0.0</td>\n",
              "      <td>0.0</td>\n",
              "      <td>5.0</td>\n",
              "      <td>13.0</td>\n",
              "      <td>9.0</td>\n",
              "      <td>1.0</td>\n",
              "      <td>0.0</td>\n",
              "      <td>0.0</td>\n",
              "      <td>0.0</td>\n",
              "      <td>0.0</td>\n",
              "      <td>...</td>\n",
              "      <td>0.0</td>\n",
              "      <td>0.0</td>\n",
              "      <td>0.0</td>\n",
              "      <td>0.0</td>\n",
              "      <td>6.0</td>\n",
              "      <td>13.0</td>\n",
              "      <td>10.0</td>\n",
              "      <td>0.0</td>\n",
              "      <td>0.0</td>\n",
              "      <td>0.0</td>\n",
              "    </tr>\n",
              "    <tr>\n",
              "      <th>1</th>\n",
              "      <td>0.0</td>\n",
              "      <td>0.0</td>\n",
              "      <td>0.0</td>\n",
              "      <td>12.0</td>\n",
              "      <td>13.0</td>\n",
              "      <td>5.0</td>\n",
              "      <td>0.0</td>\n",
              "      <td>0.0</td>\n",
              "      <td>0.0</td>\n",
              "      <td>0.0</td>\n",
              "      <td>...</td>\n",
              "      <td>0.0</td>\n",
              "      <td>0.0</td>\n",
              "      <td>0.0</td>\n",
              "      <td>0.0</td>\n",
              "      <td>0.0</td>\n",
              "      <td>11.0</td>\n",
              "      <td>16.0</td>\n",
              "      <td>10.0</td>\n",
              "      <td>0.0</td>\n",
              "      <td>0.0</td>\n",
              "    </tr>\n",
              "    <tr>\n",
              "      <th>2</th>\n",
              "      <td>0.0</td>\n",
              "      <td>0.0</td>\n",
              "      <td>0.0</td>\n",
              "      <td>4.0</td>\n",
              "      <td>15.0</td>\n",
              "      <td>12.0</td>\n",
              "      <td>0.0</td>\n",
              "      <td>0.0</td>\n",
              "      <td>0.0</td>\n",
              "      <td>0.0</td>\n",
              "      <td>...</td>\n",
              "      <td>5.0</td>\n",
              "      <td>0.0</td>\n",
              "      <td>0.0</td>\n",
              "      <td>0.0</td>\n",
              "      <td>0.0</td>\n",
              "      <td>3.0</td>\n",
              "      <td>11.0</td>\n",
              "      <td>16.0</td>\n",
              "      <td>9.0</td>\n",
              "      <td>0.0</td>\n",
              "    </tr>\n",
              "    <tr>\n",
              "      <th>3</th>\n",
              "      <td>0.0</td>\n",
              "      <td>0.0</td>\n",
              "      <td>7.0</td>\n",
              "      <td>15.0</td>\n",
              "      <td>13.0</td>\n",
              "      <td>1.0</td>\n",
              "      <td>0.0</td>\n",
              "      <td>0.0</td>\n",
              "      <td>0.0</td>\n",
              "      <td>8.0</td>\n",
              "      <td>...</td>\n",
              "      <td>9.0</td>\n",
              "      <td>0.0</td>\n",
              "      <td>0.0</td>\n",
              "      <td>0.0</td>\n",
              "      <td>7.0</td>\n",
              "      <td>13.0</td>\n",
              "      <td>13.0</td>\n",
              "      <td>9.0</td>\n",
              "      <td>0.0</td>\n",
              "      <td>0.0</td>\n",
              "    </tr>\n",
              "    <tr>\n",
              "      <th>4</th>\n",
              "      <td>0.0</td>\n",
              "      <td>0.0</td>\n",
              "      <td>0.0</td>\n",
              "      <td>1.0</td>\n",
              "      <td>11.0</td>\n",
              "      <td>0.0</td>\n",
              "      <td>0.0</td>\n",
              "      <td>0.0</td>\n",
              "      <td>0.0</td>\n",
              "      <td>0.0</td>\n",
              "      <td>...</td>\n",
              "      <td>0.0</td>\n",
              "      <td>0.0</td>\n",
              "      <td>0.0</td>\n",
              "      <td>0.0</td>\n",
              "      <td>0.0</td>\n",
              "      <td>2.0</td>\n",
              "      <td>16.0</td>\n",
              "      <td>4.0</td>\n",
              "      <td>0.0</td>\n",
              "      <td>0.0</td>\n",
              "    </tr>\n",
              "  </tbody>\n",
              "</table>\n",
              "<p>5 rows × 64 columns</p>\n",
              "</div>"
            ],
            "text/plain": [
              "    0    1    2     3     4     5    6    7    8    9  ...    54   55   56  \\\n",
              "0  0.0  0.0  5.0  13.0   9.0   1.0  0.0  0.0  0.0  0.0 ...   0.0  0.0  0.0   \n",
              "1  0.0  0.0  0.0  12.0  13.0   5.0  0.0  0.0  0.0  0.0 ...   0.0  0.0  0.0   \n",
              "2  0.0  0.0  0.0   4.0  15.0  12.0  0.0  0.0  0.0  0.0 ...   5.0  0.0  0.0   \n",
              "3  0.0  0.0  7.0  15.0  13.0   1.0  0.0  0.0  0.0  8.0 ...   9.0  0.0  0.0   \n",
              "4  0.0  0.0  0.0   1.0  11.0   0.0  0.0  0.0  0.0  0.0 ...   0.0  0.0  0.0   \n",
              "\n",
              "    57   58    59    60    61   62   63  \n",
              "0  0.0  6.0  13.0  10.0   0.0  0.0  0.0  \n",
              "1  0.0  0.0  11.0  16.0  10.0  0.0  0.0  \n",
              "2  0.0  0.0   3.0  11.0  16.0  9.0  0.0  \n",
              "3  0.0  7.0  13.0  13.0   9.0  0.0  0.0  \n",
              "4  0.0  0.0   2.0  16.0   4.0  0.0  0.0  \n",
              "\n",
              "[5 rows x 64 columns]"
            ]
          },
          "metadata": {
            "tags": []
          },
          "execution_count": 77
        }
      ]
    },
    {
      "metadata": {
        "id": "3D2Wtcf3aAei",
        "colab_type": "code",
        "colab": {
          "autoexec": {
            "startup": false,
            "wait_interval": 0
          },
          "base_uri": "https://localhost:8080/",
          "height": 195
        },
        "outputId": "46c8f9a8-8d82-4eb1-a668-8c4fe5432f41",
        "executionInfo": {
          "status": "ok",
          "timestamp": 1529453818616,
          "user_tz": -330,
          "elapsed": 966,
          "user": {
            "displayName": "Shivam Maggu",
            "photoUrl": "//lh4.googleusercontent.com/-V6fh5FfvVss/AAAAAAAAAAI/AAAAAAAAAx8/6DlPYMNrb-Y/s50-c-k-no/photo.jpg",
            "userId": "101497899883099583625"
          }
        }
      },
      "cell_type": "code",
      "source": [
        "y.head()"
      ],
      "execution_count": 78,
      "outputs": [
        {
          "output_type": "execute_result",
          "data": {
            "text/html": [
              "<div>\n",
              "<style scoped>\n",
              "    .dataframe tbody tr th:only-of-type {\n",
              "        vertical-align: middle;\n",
              "    }\n",
              "\n",
              "    .dataframe tbody tr th {\n",
              "        vertical-align: top;\n",
              "    }\n",
              "\n",
              "    .dataframe thead th {\n",
              "        text-align: right;\n",
              "    }\n",
              "</style>\n",
              "<table border=\"1\" class=\"dataframe\">\n",
              "  <thead>\n",
              "    <tr style=\"text-align: right;\">\n",
              "      <th></th>\n",
              "      <th>0</th>\n",
              "    </tr>\n",
              "  </thead>\n",
              "  <tbody>\n",
              "    <tr>\n",
              "      <th>0</th>\n",
              "      <td>0</td>\n",
              "    </tr>\n",
              "    <tr>\n",
              "      <th>1</th>\n",
              "      <td>1</td>\n",
              "    </tr>\n",
              "    <tr>\n",
              "      <th>2</th>\n",
              "      <td>2</td>\n",
              "    </tr>\n",
              "    <tr>\n",
              "      <th>3</th>\n",
              "      <td>3</td>\n",
              "    </tr>\n",
              "    <tr>\n",
              "      <th>4</th>\n",
              "      <td>4</td>\n",
              "    </tr>\n",
              "  </tbody>\n",
              "</table>\n",
              "</div>"
            ],
            "text/plain": [
              "   0\n",
              "0  0\n",
              "1  1\n",
              "2  2\n",
              "3  3\n",
              "4  4"
            ]
          },
          "metadata": {
            "tags": []
          },
          "execution_count": 78
        }
      ]
    },
    {
      "metadata": {
        "id": "AHUxriB0aJNv",
        "colab_type": "code",
        "colab": {
          "autoexec": {
            "startup": false,
            "wait_interval": 0
          },
          "base_uri": "https://localhost:8080/",
          "height": 1176
        },
        "outputId": "6afa06a4-430f-4c7f-d4ff-a8730f25c85e",
        "executionInfo": {
          "status": "ok",
          "timestamp": 1529453820500,
          "user_tz": -330,
          "elapsed": 1004,
          "user": {
            "displayName": "Shivam Maggu",
            "photoUrl": "//lh4.googleusercontent.com/-V6fh5FfvVss/AAAAAAAAAAI/AAAAAAAAAx8/6DlPYMNrb-Y/s50-c-k-no/photo.jpg",
            "userId": "101497899883099583625"
          }
        }
      },
      "cell_type": "code",
      "source": [
        "x.info()"
      ],
      "execution_count": 79,
      "outputs": [
        {
          "output_type": "stream",
          "text": [
            "<class 'pandas.core.frame.DataFrame'>\n",
            "RangeIndex: 1797 entries, 0 to 1796\n",
            "Data columns (total 64 columns):\n",
            "0     1797 non-null float64\n",
            "1     1797 non-null float64\n",
            "2     1797 non-null float64\n",
            "3     1797 non-null float64\n",
            "4     1797 non-null float64\n",
            "5     1797 non-null float64\n",
            "6     1797 non-null float64\n",
            "7     1797 non-null float64\n",
            "8     1797 non-null float64\n",
            "9     1797 non-null float64\n",
            "10    1797 non-null float64\n",
            "11    1797 non-null float64\n",
            "12    1797 non-null float64\n",
            "13    1797 non-null float64\n",
            "14    1797 non-null float64\n",
            "15    1797 non-null float64\n",
            "16    1797 non-null float64\n",
            "17    1797 non-null float64\n",
            "18    1797 non-null float64\n",
            "19    1797 non-null float64\n",
            "20    1797 non-null float64\n",
            "21    1797 non-null float64\n",
            "22    1797 non-null float64\n",
            "23    1797 non-null float64\n",
            "24    1797 non-null float64\n",
            "25    1797 non-null float64\n",
            "26    1797 non-null float64\n",
            "27    1797 non-null float64\n",
            "28    1797 non-null float64\n",
            "29    1797 non-null float64\n",
            "30    1797 non-null float64\n",
            "31    1797 non-null float64\n",
            "32    1797 non-null float64\n",
            "33    1797 non-null float64\n",
            "34    1797 non-null float64\n",
            "35    1797 non-null float64\n",
            "36    1797 non-null float64\n",
            "37    1797 non-null float64\n",
            "38    1797 non-null float64\n",
            "39    1797 non-null float64\n",
            "40    1797 non-null float64\n",
            "41    1797 non-null float64\n",
            "42    1797 non-null float64\n",
            "43    1797 non-null float64\n",
            "44    1797 non-null float64\n",
            "45    1797 non-null float64\n",
            "46    1797 non-null float64\n",
            "47    1797 non-null float64\n",
            "48    1797 non-null float64\n",
            "49    1797 non-null float64\n",
            "50    1797 non-null float64\n",
            "51    1797 non-null float64\n",
            "52    1797 non-null float64\n",
            "53    1797 non-null float64\n",
            "54    1797 non-null float64\n",
            "55    1797 non-null float64\n",
            "56    1797 non-null float64\n",
            "57    1797 non-null float64\n",
            "58    1797 non-null float64\n",
            "59    1797 non-null float64\n",
            "60    1797 non-null float64\n",
            "61    1797 non-null float64\n",
            "62    1797 non-null float64\n",
            "63    1797 non-null float64\n",
            "dtypes: float64(64)\n",
            "memory usage: 898.6 KB\n"
          ],
          "name": "stdout"
        }
      ]
    },
    {
      "metadata": {
        "id": "hSDz-AJ4aRAB",
        "colab_type": "code",
        "colab": {
          "autoexec": {
            "startup": false,
            "wait_interval": 0
          },
          "base_uri": "https://localhost:8080/",
          "height": 118
        },
        "outputId": "cc80d5fe-2d1d-45b9-e981-a3f6c23f6e57",
        "executionInfo": {
          "status": "ok",
          "timestamp": 1529453822388,
          "user_tz": -330,
          "elapsed": 966,
          "user": {
            "displayName": "Shivam Maggu",
            "photoUrl": "//lh4.googleusercontent.com/-V6fh5FfvVss/AAAAAAAAAAI/AAAAAAAAAx8/6DlPYMNrb-Y/s50-c-k-no/photo.jpg",
            "userId": "101497899883099583625"
          }
        }
      },
      "cell_type": "code",
      "source": [
        "y.info()"
      ],
      "execution_count": 80,
      "outputs": [
        {
          "output_type": "stream",
          "text": [
            "<class 'pandas.core.frame.DataFrame'>\n",
            "RangeIndex: 1797 entries, 0 to 1796\n",
            "Data columns (total 1 columns):\n",
            "0    1797 non-null int64\n",
            "dtypes: int64(1)\n",
            "memory usage: 14.1 KB\n"
          ],
          "name": "stdout"
        }
      ]
    },
    {
      "metadata": {
        "id": "ktgVNJ4PbFG9",
        "colab_type": "code",
        "colab": {
          "autoexec": {
            "startup": false,
            "wait_interval": 0
          }
        }
      },
      "cell_type": "code",
      "source": [
        "#Question 2\n",
        "x = pd.DataFrame(StandardScaler().fit_transform(x))"
      ],
      "execution_count": 0,
      "outputs": []
    },
    {
      "metadata": {
        "id": "3-vun8AKbZBE",
        "colab_type": "code",
        "colab": {
          "autoexec": {
            "startup": false,
            "wait_interval": 0
          },
          "base_uri": "https://localhost:8080/",
          "height": 244
        },
        "outputId": "d730901e-d359-44e1-acaa-b557d62933f2",
        "executionInfo": {
          "status": "ok",
          "timestamp": 1529453826584,
          "user_tz": -330,
          "elapsed": 1196,
          "user": {
            "displayName": "Shivam Maggu",
            "photoUrl": "//lh4.googleusercontent.com/-V6fh5FfvVss/AAAAAAAAAAI/AAAAAAAAAx8/6DlPYMNrb-Y/s50-c-k-no/photo.jpg",
            "userId": "101497899883099583625"
          }
        }
      },
      "cell_type": "code",
      "source": [
        "x.head()"
      ],
      "execution_count": 82,
      "outputs": [
        {
          "output_type": "execute_result",
          "data": {
            "text/html": [
              "<div>\n",
              "<style scoped>\n",
              "    .dataframe tbody tr th:only-of-type {\n",
              "        vertical-align: middle;\n",
              "    }\n",
              "\n",
              "    .dataframe tbody tr th {\n",
              "        vertical-align: top;\n",
              "    }\n",
              "\n",
              "    .dataframe thead th {\n",
              "        text-align: right;\n",
              "    }\n",
              "</style>\n",
              "<table border=\"1\" class=\"dataframe\">\n",
              "  <thead>\n",
              "    <tr style=\"text-align: right;\">\n",
              "      <th></th>\n",
              "      <th>0</th>\n",
              "      <th>1</th>\n",
              "      <th>2</th>\n",
              "      <th>3</th>\n",
              "      <th>4</th>\n",
              "      <th>5</th>\n",
              "      <th>6</th>\n",
              "      <th>7</th>\n",
              "      <th>8</th>\n",
              "      <th>9</th>\n",
              "      <th>...</th>\n",
              "      <th>54</th>\n",
              "      <th>55</th>\n",
              "      <th>56</th>\n",
              "      <th>57</th>\n",
              "      <th>58</th>\n",
              "      <th>59</th>\n",
              "      <th>60</th>\n",
              "      <th>61</th>\n",
              "      <th>62</th>\n",
              "      <th>63</th>\n",
              "    </tr>\n",
              "  </thead>\n",
              "  <tbody>\n",
              "    <tr>\n",
              "      <th>0</th>\n",
              "      <td>0.0</td>\n",
              "      <td>-0.335016</td>\n",
              "      <td>-0.043081</td>\n",
              "      <td>0.274072</td>\n",
              "      <td>-0.664478</td>\n",
              "      <td>-0.844129</td>\n",
              "      <td>-0.409724</td>\n",
              "      <td>-0.125023</td>\n",
              "      <td>-0.059078</td>\n",
              "      <td>-0.624009</td>\n",
              "      <td>...</td>\n",
              "      <td>-0.757436</td>\n",
              "      <td>-0.209785</td>\n",
              "      <td>-0.023596</td>\n",
              "      <td>-0.299081</td>\n",
              "      <td>0.086719</td>\n",
              "      <td>0.208293</td>\n",
              "      <td>-0.366771</td>\n",
              "      <td>-1.146647</td>\n",
              "      <td>-0.505670</td>\n",
              "      <td>-0.196008</td>\n",
              "    </tr>\n",
              "    <tr>\n",
              "      <th>1</th>\n",
              "      <td>0.0</td>\n",
              "      <td>-0.335016</td>\n",
              "      <td>-1.094937</td>\n",
              "      <td>0.038648</td>\n",
              "      <td>0.268751</td>\n",
              "      <td>-0.138020</td>\n",
              "      <td>-0.409724</td>\n",
              "      <td>-0.125023</td>\n",
              "      <td>-0.059078</td>\n",
              "      <td>-0.624009</td>\n",
              "      <td>...</td>\n",
              "      <td>-0.757436</td>\n",
              "      <td>-0.209785</td>\n",
              "      <td>-0.023596</td>\n",
              "      <td>-0.299081</td>\n",
              "      <td>-1.089383</td>\n",
              "      <td>-0.249010</td>\n",
              "      <td>0.849632</td>\n",
              "      <td>0.548561</td>\n",
              "      <td>-0.505670</td>\n",
              "      <td>-0.196008</td>\n",
              "    </tr>\n",
              "    <tr>\n",
              "      <th>2</th>\n",
              "      <td>0.0</td>\n",
              "      <td>-0.335016</td>\n",
              "      <td>-1.094937</td>\n",
              "      <td>-1.844742</td>\n",
              "      <td>0.735366</td>\n",
              "      <td>1.097673</td>\n",
              "      <td>-0.409724</td>\n",
              "      <td>-0.125023</td>\n",
              "      <td>-0.059078</td>\n",
              "      <td>-0.624009</td>\n",
              "      <td>...</td>\n",
              "      <td>0.259230</td>\n",
              "      <td>-0.209785</td>\n",
              "      <td>-0.023596</td>\n",
              "      <td>-0.299081</td>\n",
              "      <td>-1.089383</td>\n",
              "      <td>-2.078218</td>\n",
              "      <td>-0.164037</td>\n",
              "      <td>1.565686</td>\n",
              "      <td>1.695137</td>\n",
              "      <td>-0.196008</td>\n",
              "    </tr>\n",
              "    <tr>\n",
              "      <th>3</th>\n",
              "      <td>0.0</td>\n",
              "      <td>-0.335016</td>\n",
              "      <td>0.377661</td>\n",
              "      <td>0.744919</td>\n",
              "      <td>0.268751</td>\n",
              "      <td>-0.844129</td>\n",
              "      <td>-0.409724</td>\n",
              "      <td>-0.125023</td>\n",
              "      <td>-0.059078</td>\n",
              "      <td>1.879691</td>\n",
              "      <td>...</td>\n",
              "      <td>1.072563</td>\n",
              "      <td>-0.209785</td>\n",
              "      <td>-0.023596</td>\n",
              "      <td>-0.299081</td>\n",
              "      <td>0.282736</td>\n",
              "      <td>0.208293</td>\n",
              "      <td>0.241430</td>\n",
              "      <td>0.379040</td>\n",
              "      <td>-0.505670</td>\n",
              "      <td>-0.196008</td>\n",
              "    </tr>\n",
              "    <tr>\n",
              "      <th>4</th>\n",
              "      <td>0.0</td>\n",
              "      <td>-0.335016</td>\n",
              "      <td>-1.094937</td>\n",
              "      <td>-2.551014</td>\n",
              "      <td>-0.197863</td>\n",
              "      <td>-1.020657</td>\n",
              "      <td>-0.409724</td>\n",
              "      <td>-0.125023</td>\n",
              "      <td>-0.059078</td>\n",
              "      <td>-0.624009</td>\n",
              "      <td>...</td>\n",
              "      <td>-0.757436</td>\n",
              "      <td>-0.209785</td>\n",
              "      <td>-0.023596</td>\n",
              "      <td>-0.299081</td>\n",
              "      <td>-1.089383</td>\n",
              "      <td>-2.306869</td>\n",
              "      <td>0.849632</td>\n",
              "      <td>-0.468564</td>\n",
              "      <td>-0.505670</td>\n",
              "      <td>-0.196008</td>\n",
              "    </tr>\n",
              "  </tbody>\n",
              "</table>\n",
              "<p>5 rows × 64 columns</p>\n",
              "</div>"
            ],
            "text/plain": [
              "    0         1         2         3         4         5         6         7   \\\n",
              "0  0.0 -0.335016 -0.043081  0.274072 -0.664478 -0.844129 -0.409724 -0.125023   \n",
              "1  0.0 -0.335016 -1.094937  0.038648  0.268751 -0.138020 -0.409724 -0.125023   \n",
              "2  0.0 -0.335016 -1.094937 -1.844742  0.735366  1.097673 -0.409724 -0.125023   \n",
              "3  0.0 -0.335016  0.377661  0.744919  0.268751 -0.844129 -0.409724 -0.125023   \n",
              "4  0.0 -0.335016 -1.094937 -2.551014 -0.197863 -1.020657 -0.409724 -0.125023   \n",
              "\n",
              "         8         9     ...           54        55        56        57  \\\n",
              "0 -0.059078 -0.624009    ...    -0.757436 -0.209785 -0.023596 -0.299081   \n",
              "1 -0.059078 -0.624009    ...    -0.757436 -0.209785 -0.023596 -0.299081   \n",
              "2 -0.059078 -0.624009    ...     0.259230 -0.209785 -0.023596 -0.299081   \n",
              "3 -0.059078  1.879691    ...     1.072563 -0.209785 -0.023596 -0.299081   \n",
              "4 -0.059078 -0.624009    ...    -0.757436 -0.209785 -0.023596 -0.299081   \n",
              "\n",
              "         58        59        60        61        62        63  \n",
              "0  0.086719  0.208293 -0.366771 -1.146647 -0.505670 -0.196008  \n",
              "1 -1.089383 -0.249010  0.849632  0.548561 -0.505670 -0.196008  \n",
              "2 -1.089383 -2.078218 -0.164037  1.565686  1.695137 -0.196008  \n",
              "3  0.282736  0.208293  0.241430  0.379040 -0.505670 -0.196008  \n",
              "4 -1.089383 -2.306869  0.849632 -0.468564 -0.505670 -0.196008  \n",
              "\n",
              "[5 rows x 64 columns]"
            ]
          },
          "metadata": {
            "tags": []
          },
          "execution_count": 82
        }
      ]
    },
    {
      "metadata": {
        "id": "n88WOb2tcigh",
        "colab_type": "code",
        "colab": {
          "autoexec": {
            "startup": false,
            "wait_interval": 0
          },
          "base_uri": "https://localhost:8080/",
          "height": 215
        },
        "outputId": "c0e7c01d-2262-4fd9-c4f7-32ec8374b11f",
        "executionInfo": {
          "status": "ok",
          "timestamp": 1529454026693,
          "user_tz": -330,
          "elapsed": 947,
          "user": {
            "displayName": "Shivam Maggu",
            "photoUrl": "//lh4.googleusercontent.com/-V6fh5FfvVss/AAAAAAAAAAI/AAAAAAAAAx8/6DlPYMNrb-Y/s50-c-k-no/photo.jpg",
            "userId": "101497899883099583625"
          }
        }
      },
      "cell_type": "code",
      "source": [
        "#Question 4\n",
        "pca = PCA(n_components = 20)\n",
        "pc = pca.fit_transform(x)\n",
        "final_x = pd.DataFrame(pc)\n",
        "final_x.head()"
      ],
      "execution_count": 113,
      "outputs": [
        {
          "output_type": "execute_result",
          "data": {
            "text/html": [
              "<div>\n",
              "<style scoped>\n",
              "    .dataframe tbody tr th:only-of-type {\n",
              "        vertical-align: middle;\n",
              "    }\n",
              "\n",
              "    .dataframe tbody tr th {\n",
              "        vertical-align: top;\n",
              "    }\n",
              "\n",
              "    .dataframe thead th {\n",
              "        text-align: right;\n",
              "    }\n",
              "</style>\n",
              "<table border=\"1\" class=\"dataframe\">\n",
              "  <thead>\n",
              "    <tr style=\"text-align: right;\">\n",
              "      <th></th>\n",
              "      <th>0</th>\n",
              "      <th>1</th>\n",
              "      <th>2</th>\n",
              "      <th>3</th>\n",
              "      <th>4</th>\n",
              "      <th>5</th>\n",
              "      <th>6</th>\n",
              "      <th>7</th>\n",
              "      <th>8</th>\n",
              "      <th>9</th>\n",
              "      <th>10</th>\n",
              "      <th>11</th>\n",
              "      <th>12</th>\n",
              "      <th>13</th>\n",
              "      <th>14</th>\n",
              "      <th>15</th>\n",
              "      <th>16</th>\n",
              "      <th>17</th>\n",
              "      <th>18</th>\n",
              "      <th>19</th>\n",
              "    </tr>\n",
              "  </thead>\n",
              "  <tbody>\n",
              "    <tr>\n",
              "      <th>0</th>\n",
              "      <td>1.914214</td>\n",
              "      <td>-0.954494</td>\n",
              "      <td>-3.946039</td>\n",
              "      <td>2.028704</td>\n",
              "      <td>-0.267128</td>\n",
              "      <td>0.529829</td>\n",
              "      <td>-1.415734</td>\n",
              "      <td>1.495811</td>\n",
              "      <td>0.124417</td>\n",
              "      <td>-0.821117</td>\n",
              "      <td>-0.499695</td>\n",
              "      <td>-0.789389</td>\n",
              "      <td>0.223291</td>\n",
              "      <td>-0.190893</td>\n",
              "      <td>0.849531</td>\n",
              "      <td>0.094293</td>\n",
              "      <td>0.166695</td>\n",
              "      <td>-0.109694</td>\n",
              "      <td>0.417112</td>\n",
              "      <td>0.387987</td>\n",
              "    </tr>\n",
              "    <tr>\n",
              "      <th>1</th>\n",
              "      <td>0.588988</td>\n",
              "      <td>0.924655</td>\n",
              "      <td>3.924757</td>\n",
              "      <td>-1.779946</td>\n",
              "      <td>-0.993435</td>\n",
              "      <td>-0.675002</td>\n",
              "      <td>1.878879</td>\n",
              "      <td>0.556774</td>\n",
              "      <td>1.081040</td>\n",
              "      <td>0.086422</td>\n",
              "      <td>-0.501255</td>\n",
              "      <td>0.641558</td>\n",
              "      <td>-0.042291</td>\n",
              "      <td>-0.388618</td>\n",
              "      <td>-0.752516</td>\n",
              "      <td>-0.225518</td>\n",
              "      <td>-0.092813</td>\n",
              "      <td>-0.407714</td>\n",
              "      <td>0.569253</td>\n",
              "      <td>-0.074981</td>\n",
              "    </tr>\n",
              "    <tr>\n",
              "      <th>2</th>\n",
              "      <td>1.302047</td>\n",
              "      <td>-0.317169</td>\n",
              "      <td>3.023326</td>\n",
              "      <td>-2.043428</td>\n",
              "      <td>-2.081216</td>\n",
              "      <td>0.934218</td>\n",
              "      <td>-1.296638</td>\n",
              "      <td>1.155718</td>\n",
              "      <td>0.784019</td>\n",
              "      <td>-1.098546</td>\n",
              "      <td>2.192108</td>\n",
              "      <td>-2.311414</td>\n",
              "      <td>-0.574179</td>\n",
              "      <td>-0.996738</td>\n",
              "      <td>-1.162435</td>\n",
              "      <td>0.408583</td>\n",
              "      <td>-0.268465</td>\n",
              "      <td>-0.480660</td>\n",
              "      <td>-1.062868</td>\n",
              "      <td>-1.153679</td>\n",
              "    </tr>\n",
              "    <tr>\n",
              "      <th>3</th>\n",
              "      <td>-3.020789</td>\n",
              "      <td>-0.868825</td>\n",
              "      <td>-0.801737</td>\n",
              "      <td>-2.186830</td>\n",
              "      <td>-0.556561</td>\n",
              "      <td>0.727483</td>\n",
              "      <td>0.960041</td>\n",
              "      <td>-1.384611</td>\n",
              "      <td>0.258739</td>\n",
              "      <td>0.744686</td>\n",
              "      <td>-1.062653</td>\n",
              "      <td>0.492139</td>\n",
              "      <td>-0.162570</td>\n",
              "      <td>1.001922</td>\n",
              "      <td>-0.154664</td>\n",
              "      <td>-0.971597</td>\n",
              "      <td>-0.902939</td>\n",
              "      <td>-0.357516</td>\n",
              "      <td>1.474128</td>\n",
              "      <td>0.359222</td>\n",
              "    </tr>\n",
              "    <tr>\n",
              "      <th>4</th>\n",
              "      <td>4.528939</td>\n",
              "      <td>-1.093523</td>\n",
              "      <td>0.973141</td>\n",
              "      <td>-1.419368</td>\n",
              "      <td>-1.715141</td>\n",
              "      <td>1.432264</td>\n",
              "      <td>1.074152</td>\n",
              "      <td>-0.967840</td>\n",
              "      <td>-1.660179</td>\n",
              "      <td>1.174174</td>\n",
              "      <td>-1.015433</td>\n",
              "      <td>-1.363987</td>\n",
              "      <td>-0.338164</td>\n",
              "      <td>-0.118998</td>\n",
              "      <td>0.723660</td>\n",
              "      <td>0.214358</td>\n",
              "      <td>-0.059325</td>\n",
              "      <td>-0.512573</td>\n",
              "      <td>1.595378</td>\n",
              "      <td>1.140592</td>\n",
              "    </tr>\n",
              "  </tbody>\n",
              "</table>\n",
              "</div>"
            ],
            "text/plain": [
              "         0         1         2         3         4         5         6   \\\n",
              "0  1.914214 -0.954494 -3.946039  2.028704 -0.267128  0.529829 -1.415734   \n",
              "1  0.588988  0.924655  3.924757 -1.779946 -0.993435 -0.675002  1.878879   \n",
              "2  1.302047 -0.317169  3.023326 -2.043428 -2.081216  0.934218 -1.296638   \n",
              "3 -3.020789 -0.868825 -0.801737 -2.186830 -0.556561  0.727483  0.960041   \n",
              "4  4.528939 -1.093523  0.973141 -1.419368 -1.715141  1.432264  1.074152   \n",
              "\n",
              "         7         8         9         10        11        12        13  \\\n",
              "0  1.495811  0.124417 -0.821117 -0.499695 -0.789389  0.223291 -0.190893   \n",
              "1  0.556774  1.081040  0.086422 -0.501255  0.641558 -0.042291 -0.388618   \n",
              "2  1.155718  0.784019 -1.098546  2.192108 -2.311414 -0.574179 -0.996738   \n",
              "3 -1.384611  0.258739  0.744686 -1.062653  0.492139 -0.162570  1.001922   \n",
              "4 -0.967840 -1.660179  1.174174 -1.015433 -1.363987 -0.338164 -0.118998   \n",
              "\n",
              "         14        15        16        17        18        19  \n",
              "0  0.849531  0.094293  0.166695 -0.109694  0.417112  0.387987  \n",
              "1 -0.752516 -0.225518 -0.092813 -0.407714  0.569253 -0.074981  \n",
              "2 -1.162435  0.408583 -0.268465 -0.480660 -1.062868 -1.153679  \n",
              "3 -0.154664 -0.971597 -0.902939 -0.357516  1.474128  0.359222  \n",
              "4  0.723660  0.214358 -0.059325 -0.512573  1.595378  1.140592  "
            ]
          },
          "metadata": {
            "tags": []
          },
          "execution_count": 113
        }
      ]
    },
    {
      "metadata": {
        "id": "i4nheS6ebfyB",
        "colab_type": "code",
        "colab": {
          "autoexec": {
            "startup": false,
            "wait_interval": 0
          }
        }
      },
      "cell_type": "code",
      "source": [
        "#Question 3\n",
        "train_x , test_x , train_y , test_y = train_test_split(final_x , y , test_size = 0.3 , random_state = 43)"
      ],
      "execution_count": 0,
      "outputs": []
    },
    {
      "metadata": {
        "id": "-qmmTas8dptE",
        "colab_type": "code",
        "colab": {
          "autoexec": {
            "startup": false,
            "wait_interval": 0
          },
          "base_uri": "https://localhost:8080/",
          "height": 70
        },
        "outputId": "cd384436-8dea-42dd-908b-b52ff7d78afc",
        "executionInfo": {
          "status": "ok",
          "timestamp": 1529454030275,
          "user_tz": -330,
          "elapsed": 954,
          "user": {
            "displayName": "Shivam Maggu",
            "photoUrl": "//lh4.googleusercontent.com/-V6fh5FfvVss/AAAAAAAAAAI/AAAAAAAAAx8/6DlPYMNrb-Y/s50-c-k-no/photo.jpg",
            "userId": "101497899883099583625"
          }
        }
      },
      "cell_type": "code",
      "source": [
        "#Question 5\n",
        "model = LogisticRegression()\n",
        "model.fit(train_x , train_y)\n",
        "pred_y = model.predict(test_x)"
      ],
      "execution_count": 115,
      "outputs": [
        {
          "output_type": "stream",
          "text": [
            "/usr/local/lib/python3.6/dist-packages/sklearn/utils/validation.py:578: DataConversionWarning: A column-vector y was passed when a 1d array was expected. Please change the shape of y to (n_samples, ), for example using ravel().\n",
            "  y = column_or_1d(y, warn=True)\n"
          ],
          "name": "stderr"
        }
      ]
    },
    {
      "metadata": {
        "id": "oRGe1BiyhIqy",
        "colab_type": "code",
        "colab": {
          "autoexec": {
            "startup": false,
            "wait_interval": 0
          },
          "base_uri": "https://localhost:8080/",
          "height": 34
        },
        "outputId": "bf9ccc42-1cba-4614-b5a2-c9bcf5f17f98",
        "executionInfo": {
          "status": "ok",
          "timestamp": 1529454031762,
          "user_tz": -330,
          "elapsed": 953,
          "user": {
            "displayName": "Shivam Maggu",
            "photoUrl": "//lh4.googleusercontent.com/-V6fh5FfvVss/AAAAAAAAAAI/AAAAAAAAAx8/6DlPYMNrb-Y/s50-c-k-no/photo.jpg",
            "userId": "101497899883099583625"
          }
        }
      },
      "cell_type": "code",
      "source": [
        "#Question 6\n",
        "print(accuracy_score(test_y ,pred_y))"
      ],
      "execution_count": 116,
      "outputs": [
        {
          "output_type": "stream",
          "text": [
            "0.9351851851851852\n"
          ],
          "name": "stdout"
        }
      ]
    },
    {
      "metadata": {
        "id": "XGwfLVCDh4dd",
        "colab_type": "code",
        "colab": {
          "autoexec": {
            "startup": false,
            "wait_interval": 0
          },
          "base_uri": "https://localhost:8080/",
          "height": 185
        },
        "outputId": "a8248422-b210-4f64-d50f-02b29f51dcda",
        "executionInfo": {
          "status": "ok",
          "timestamp": 1529454057868,
          "user_tz": -330,
          "elapsed": 980,
          "user": {
            "displayName": "Shivam Maggu",
            "photoUrl": "//lh4.googleusercontent.com/-V6fh5FfvVss/AAAAAAAAAAI/AAAAAAAAAx8/6DlPYMNrb-Y/s50-c-k-no/photo.jpg",
            "userId": "101497899883099583625"
          }
        }
      },
      "cell_type": "code",
      "source": [
        "print(confusion_matrix(test_y ,pred_y))"
      ],
      "execution_count": 117,
      "outputs": [
        {
          "output_type": "stream",
          "text": [
            "[[58  0  0  0  0  0  0  0  0  0]\n",
            " [ 0 36  0  0  0  0  0  0  1  4]\n",
            " [ 0  0 43  0  1  0  0  1  0  0]\n",
            " [ 0  0  0 38  0  1  0  1  1  0]\n",
            " [ 0  1  0  0 54  0  0  1  0  1]\n",
            " [ 0  0  0  0  0 54  0  0  0  0]\n",
            " [ 0  1  0  0  0  0 59  0  0  0]\n",
            " [ 0  0  0  0  1  0  0 54  0  0]\n",
            " [ 0  7  0  1  0  2  1  0 53  2]\n",
            " [ 0  2  0  1  0  1  0  2  1 56]]\n"
          ],
          "name": "stdout"
        }
      ]
    },
    {
      "metadata": {
        "id": "lDdUu2YVh9Z_",
        "colab_type": "code",
        "colab": {
          "autoexec": {
            "startup": false,
            "wait_interval": 0
          },
          "base_uri": "https://localhost:8080/",
          "height": 269
        },
        "outputId": "fc913180-5dad-4c57-ca59-29f3166fa4db",
        "executionInfo": {
          "status": "ok",
          "timestamp": 1529454063999,
          "user_tz": -330,
          "elapsed": 852,
          "user": {
            "displayName": "Shivam Maggu",
            "photoUrl": "//lh4.googleusercontent.com/-V6fh5FfvVss/AAAAAAAAAAI/AAAAAAAAAx8/6DlPYMNrb-Y/s50-c-k-no/photo.jpg",
            "userId": "101497899883099583625"
          }
        }
      },
      "cell_type": "code",
      "source": [
        "print(classification_report(test_y ,pred_y))"
      ],
      "execution_count": 118,
      "outputs": [
        {
          "output_type": "stream",
          "text": [
            "             precision    recall  f1-score   support\n",
            "\n",
            "          0       1.00      1.00      1.00        58\n",
            "          1       0.77      0.88      0.82        41\n",
            "          2       1.00      0.96      0.98        45\n",
            "          3       0.95      0.93      0.94        41\n",
            "          4       0.96      0.95      0.96        57\n",
            "          5       0.93      1.00      0.96        54\n",
            "          6       0.98      0.98      0.98        60\n",
            "          7       0.92      0.98      0.95        55\n",
            "          8       0.95      0.80      0.87        66\n",
            "          9       0.89      0.89      0.89        63\n",
            "\n",
            "avg / total       0.94      0.94      0.94       540\n",
            "\n"
          ],
          "name": "stdout"
        }
      ]
    },
    {
      "metadata": {
        "id": "6tQkkUNnkO2G",
        "colab_type": "code",
        "colab": {
          "autoexec": {
            "startup": false,
            "wait_interval": 0
          }
        }
      },
      "cell_type": "code",
      "source": [
        ""
      ],
      "execution_count": 0,
      "outputs": []
    }
  ]
}